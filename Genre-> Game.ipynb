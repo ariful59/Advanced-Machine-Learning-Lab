{
 "cells": [
  {
   "cell_type": "markdown",
   "metadata": {
    "id": "view-in-github",
    "colab_type": "text"
   },
   "source": [
    "<a href=\"https://colab.research.google.com/github/aeau/MAU-AML-labs/blob/develop/2-language-models-lab/2-text-classifier-colab.ipynb\" target=\"_parent\"><img src=\"https://colab.research.google.com/assets/colab-badge.svg\" alt=\"Open In Colab\"/></a>"
   ]
  },
  {
   "cell_type": "markdown",
   "metadata": {
    "id": "L8LQKGuJuUF7"
   },
   "source": [
    "## Text Classification ##\n",
    "\n",
    "This notebook is based on this Pytorch tutorial: https://pytorch.org/tutorials/intermediate/char_rnn_classification_tutorial\n",
    "        \n",
    "In this notebook, we will train a network to learn how to classify the country of a name. In this example, we will tokenize per character rather than per word"
   ]
  },
  {
   "cell_type": "code",
   "metadata": {
    "id": "ZvHJ9C9YuUF9",
    "ExecuteTime": {
     "end_time": "2025-06-08T14:30:51.560564Z",
     "start_time": "2025-06-08T14:30:51.554158Z"
    }
   },
   "source": [
    "from __future__ import unicode_literals, print_function, division\n",
    "from io import open\n",
    "import glob\n",
    "import os\n",
    "import unicodedata\n",
    "import string\n",
    "import random\n",
    "import time\n",
    "import math\n",
    "\n",
    "import torch\n",
    "import torch.nn as nn\n",
    "import torch.optim as optim\n",
    "from torch.optim import lr_scheduler\n",
    "\n",
    "import matplotlib.pyplot as plt\n",
    "import matplotlib.ticker as ticker"
   ],
   "outputs": [],
   "execution_count": 13
  },
  {
   "cell_type": "code",
   "metadata": {
    "id": "P0W-mTB_uUF9",
    "ExecuteTime": {
     "end_time": "2025-06-08T14:30:51.581722Z",
     "start_time": "2025-06-08T14:30:51.579262Z"
    }
   },
   "source": [
    "device = torch.device(\"cuda\" if torch.cuda.is_available() else \"cpu\")\n",
    "# device = \"cpu\""
   ],
   "outputs": [],
   "execution_count": 14
  },
  {
   "cell_type": "code",
   "source": "",
   "metadata": {
    "id": "g-jqpBAGuv-Z",
    "outputId": "fab8694f-c189-4e9b-8ddb-bcc01b49c4a9",
    "colab": {
     "base_uri": "https://localhost:8080/"
    },
    "ExecuteTime": {
     "end_time": "2025-06-08T14:30:51.597175Z",
     "start_time": "2025-06-08T14:30:51.594870Z"
    }
   },
   "outputs": [],
   "execution_count": null
  },
  {
   "cell_type": "code",
   "source": [
    "#Change directories to point to your data!\n",
    "data_path = '/content/drive/MyDrive/Work/PHD/courses-AML/data_aml'\n",
    "specfic_path = '/content/drive/MyDrive/Work/PHD/courses-AML/data_aml/lm-data.zip'\n",
    "#!ls \"$root_dir\"\n",
    "root_dir = \"/content/data\"\n",
    "data_dir = root_dir + \"/lm-data/names\"\n",
    "\n",
    "\n",
    "!unzip '/content/drive/MyDrive/Work/PHD/courses-AML/data_aml/lm-data.zip' -d \"$root_dir\""
   ],
   "metadata": {
    "id": "_iihhLl6vIwp",
    "outputId": "add55976-2398-4d10-b913-e0dcadd00f22",
    "colab": {
     "base_uri": "https://localhost:8080/"
    },
    "ExecuteTime": {
     "end_time": "2025-06-08T14:30:51.791560Z",
     "start_time": "2025-06-08T14:30:51.618162Z"
    }
   },
   "outputs": [
    {
     "name": "stdout",
     "output_type": "stream",
     "text": [
      "unzip:  cannot find or open /content/drive/MyDrive/Work/PHD/courses-AML/data_aml/lm-data.zip, /content/drive/MyDrive/Work/PHD/courses-AML/data_aml/lm-data.zip.zip or /content/drive/MyDrive/Work/PHD/courses-AML/data_aml/lm-data.zip.ZIP.\r\n"
     ]
    },
    {
     "name": "stderr",
     "output_type": "stream",
     "text": [
      "python(65131) MallocStackLogging: can't turn off malloc stack logging because it was not enabled.\n"
     ]
    }
   ],
   "execution_count": 15
  },
  {
   "cell_type": "code",
   "metadata": {
    "id": "Bgf97XnluUF-",
    "outputId": "58d0bd4f-1fee-4d1c-94d1-a722572a76c2",
    "colab": {
     "base_uri": "https://localhost:8080/"
    },
    "ExecuteTime": {
     "end_time": "2025-06-08T14:30:51.871632Z",
     "start_time": "2025-06-08T14:30:51.865306Z"
    }
   },
   "source": [
    "# Vocabulary\n",
    "all_letters = string.ascii_letters + \" .,;'\"\n",
    "n_letters = len(all_letters)\n",
    "\n",
    "\n",
    "print(n_letters)\n",
    " \n",
    "# Turn a Unicode string to plain ASCII, thanks to https://stackoverflow.com/a/518232/2809427\n",
    "def unicodeToAscii(s):\n",
    "    return ''.join(\n",
    "        c for c in unicodedata.normalize('NFD', s)\n",
    "        if unicodedata.category(c) != 'Mn'\n",
    "        and c in all_letters\n",
    "    )\n",
    "\n",
    "print(unicodeToAscii('Malmöääe'))"
   ],
   "outputs": [
    {
     "name": "stdout",
     "output_type": "stream",
     "text": [
      "57\n",
      "Malmoaae\n"
     ]
    }
   ],
   "execution_count": 16
  },
  {
   "cell_type": "code",
   "metadata": {
    "id": "92gHaPfOuUF_",
    "outputId": "fabce61f-de96-4e66-d1fc-466dc2abe9db",
    "colab": {
     "base_uri": "https://localhost:8080/"
    },
    "ExecuteTime": {
     "end_time": "2025-06-08T14:30:51.913404Z",
     "start_time": "2025-06-08T14:30:51.906362Z"
    }
   },
   "source": [
    "def findFiles(path): return glob.glob(path)\n",
    "\n",
    "print(findFiles(data_dir + '/*.txt'))\n",
    "\n",
    "# Build the category_lines dictionary, a list of names per language\n",
    "category_lines = {}\n",
    "all_categories = []\n",
    "\n",
    "# Read a file and split into lines\n",
    "def readLines(filename):\n",
    "    lines = open(filename, encoding='utf-8').read().strip().split('\\n')\n",
    "    return [unicodeToAscii(line) for line in lines]\n",
    "\n",
    "for filename in findFiles(data_dir + '/*.txt'):\n",
    "    category = os.path.splitext(os.path.basename(filename))[0]\n",
    "    all_categories.append(category)\n",
    "    lines = readLines(filename)\n",
    "    category_lines[category] = lines\n",
    "\n",
    "n_categories = len(all_categories)\n",
    "print(n_categories) # Classes\n",
    "# print(category_lines)"
   ],
   "outputs": [
    {
     "name": "stdout",
     "output_type": "stream",
     "text": [
      "[]\n",
      "0\n"
     ]
    }
   ],
   "execution_count": 17
  },
  {
   "cell_type": "code",
   "metadata": {
    "id": "ow4ebeBSuUF_",
    "outputId": "45ba9551-69b2-49e2-f73d-67a1bc53b818",
    "colab": {
     "base_uri": "https://localhost:8080/"
    },
    "ExecuteTime": {
     "end_time": "2025-06-08T14:30:51.968699Z",
     "start_time": "2025-06-08T14:30:51.941214Z"
    }
   },
   "source": [
    "print(category_lines['Greek'][:5])\n",
    "print(category_lines['Spanish'])"
   ],
   "outputs": [
    {
     "ename": "KeyError",
     "evalue": "'Greek'",
     "output_type": "error",
     "traceback": [
      "\u001B[0;31m---------------------------------------------------------------------------\u001B[0m",
      "\u001B[0;31mKeyError\u001B[0m                                  Traceback (most recent call last)",
      "Cell \u001B[0;32mIn[18], line 1\u001B[0m\n\u001B[0;32m----> 1\u001B[0m \u001B[38;5;28mprint\u001B[39m(\u001B[43mcategory_lines\u001B[49m\u001B[43m[\u001B[49m\u001B[38;5;124;43m'\u001B[39;49m\u001B[38;5;124;43mGreek\u001B[39;49m\u001B[38;5;124;43m'\u001B[39;49m\u001B[43m]\u001B[49m[:\u001B[38;5;241m5\u001B[39m])\n\u001B[1;32m      2\u001B[0m \u001B[38;5;28mprint\u001B[39m(category_lines[\u001B[38;5;124m'\u001B[39m\u001B[38;5;124mSpanish\u001B[39m\u001B[38;5;124m'\u001B[39m])\n",
      "\u001B[0;31mKeyError\u001B[0m: 'Greek'"
     ]
    }
   ],
   "execution_count": 18
  },
  {
   "cell_type": "markdown",
   "metadata": {
    "id": "DsC2K5HNuUF_"
   },
   "source": [
    "### Make everything into one-hot vector ###\n",
    "\n",
    "For it to be used (transform into a tensor). Here we are doing a character-based one-hot vector"
   ]
  },
  {
   "cell_type": "code",
   "execution_count": 47,
   "metadata": {
    "id": "DxTCIJJ_uUGA",
    "outputId": "e91245b4-60e8-4226-d455-f7c512c597c4",
    "colab": {
     "base_uri": "https://localhost:8080/"
    }
   },
   "outputs": [
    {
     "output_type": "stream",
     "name": "stdout",
     "text": [
      "tensor([[0., 0., 0., 0., 0., 0., 0., 0., 0., 0., 0., 0., 0., 0., 0., 0., 0., 0.,\n",
      "         0., 0., 0., 0., 0., 0., 0., 0., 0., 0., 0., 0., 0., 0., 0., 0., 0., 1.,\n",
      "         0., 0., 0., 0., 0., 0., 0., 0., 0., 0., 0., 0., 0., 0., 0., 0., 0., 0.,\n",
      "         0., 0., 0.]])\n",
      "tensor([[0., 0., 0., 0., 0., 0., 0., 0., 0., 0., 0., 0., 0., 0., 1., 0., 0., 0.,\n",
      "         0., 0., 0., 0., 0., 0., 0., 0., 0., 0., 0., 0., 0., 0., 0., 0., 0., 0.,\n",
      "         0., 0., 0., 0., 0., 0., 0., 0., 0., 0., 0., 0., 0., 0., 0., 0., 0., 0.,\n",
      "         0., 0., 0.]])\n",
      "torch.Size([5, 1, 57])\n"
     ]
    }
   ],
   "source": [
    "# Find letter index from all_letters, e.g. \"a\" = 0\n",
    "def letterToIndex(letter):\n",
    "    return all_letters.find(letter)\n",
    "\n",
    "# Just for demonstration, turn a letter into a <1 x n_letters> Tensor\n",
    "def letterToTensor(letter):\n",
    "    tensor = torch.zeros(1, n_letters)\n",
    "    tensor[0][letterToIndex(letter)] = 1\n",
    "    return tensor\n",
    "\n",
    "# Turn a line into a <line_length x 1 x n_letters>,\n",
    "# or an array of one-hot letter vectors\n",
    "def lineToTensor(line):\n",
    "    tensor = torch.zeros(len(line), 1, n_letters)\n",
    "    for li, letter in enumerate(line):\n",
    "        tensor[li][0][letterToIndex(letter)] = 1\n",
    "    return tensor\n",
    "\n",
    "print(letterToTensor('J'))\n",
    "print(letterToTensor('o'))\n",
    "print(lineToTensor('Jones').size())"
   ]
  },
  {
   "cell_type": "code",
   "execution_count": 48,
   "metadata": {
    "id": "DVFbr4OhuUGA"
   },
   "outputs": [],
   "source": [
    "class RNN(nn.Module):\n",
    "    def __init__(self, input_size, hidden_size, output_size):\n",
    "        super(RNN, self).__init__()\n",
    "\n",
    "        self.hidden_size = hidden_size\n",
    "\n",
    "        self.hidden_comp = nn.Linear(input_size + hidden_size, hidden_size)\n",
    "        self.output_comp = nn.Linear(input_size + hidden_size, hidden_size)\n",
    "        self.output2output = nn.Linear(hidden_size, output_size)\n",
    "        self.tanh_act = nn.Tanh()\n",
    "        self.lsoftmax = nn.LogSoftmax(dim=1)\n",
    "\n",
    "    def forward(self, x, hidden):\n",
    "#       print(x.shape)\n",
    "        \n",
    "        combined = torch.cat((x, hidden), 1)\n",
    "        hidden = self.hidden_comp(combined)\n",
    "        hidden = self.tanh_act(hidden)\n",
    "#       print(hidden.shape)\n",
    "        \n",
    "        output = self.output_comp(combined)\n",
    "        output = self.tanh_act(output)\n",
    "#         print(output.shape)\n",
    "        output = self.output2output(output)\n",
    "        output = self.lsoftmax(output)\n",
    "#         print(output.shape)\n",
    "        \n",
    "        return output, hidden\n",
    "\n",
    "    def initHidden(self):\n",
    "        return torch.zeros(1, self.hidden_size)\n",
    "\n",
    "n_hidden = 128\n",
    "rnn = RNN(n_letters, n_hidden, n_categories)"
   ]
  },
  {
   "cell_type": "markdown",
   "metadata": {
    "id": "RYv3BheauUGB"
   },
   "source": [
    "To run a step of this network we need to pass an input (in our case, the Tensor for the current letter) and a previous hidden state (which we initialize as zeros at first). We’ll get back the output (probability of each language) and a next hidden state (which we keep for the next step)."
   ]
  },
  {
   "cell_type": "code",
   "execution_count": 50,
   "metadata": {
    "id": "EMZ2mbjuuUGB",
    "outputId": "701b13e6-b3da-4f07-bfe5-787df171b31c",
    "colab": {
     "base_uri": "https://localhost:8080/"
    }
   },
   "outputs": [
    {
     "output_type": "stream",
     "name": "stdout",
     "text": [
      "torch.Size([1, 57])\n",
      "torch.Size([1, 128])\n",
      "tensor([15])\n",
      "tensor([[15, 16,  2]])\n"
     ]
    }
   ],
   "source": [
    "x = letterToTensor('A')\n",
    "print(x.shape)\n",
    "hidden =torch.zeros(1, n_hidden)\n",
    "hidden = rnn.initHidden()\n",
    "print(hidden.shape)\n",
    "\n",
    "output, next_hidden = rnn(x, hidden)\n",
    "print(output.argmax(-1))\n",
    "print(output.topk(3).indices)"
   ]
  },
  {
   "cell_type": "code",
   "execution_count": 51,
   "metadata": {
    "id": "Pb05odt2uUGB",
    "outputId": "350026ac-e6bd-4fa1-b41c-f1bf3d85a253",
    "colab": {
     "base_uri": "https://localhost:8080/"
    }
   },
   "outputs": [
    {
     "output_type": "stream",
     "name": "stdout",
     "text": [
      "tensor([1])\n"
     ]
    }
   ],
   "source": [
    "x = lineToTensor('Alberto')\n",
    "hidden = torch.zeros(1, n_hidden)\n",
    "\n",
    "output, next_hidden = rnn(x[0], hidden)\n",
    "output, next_hidden = rnn(x[1], next_hidden)\n",
    "output, next_hidden = rnn(x[2], next_hidden)\n",
    "output, next_hidden = rnn(x[3], next_hidden)\n",
    "output, next_hidden = rnn(x[4], next_hidden)\n",
    "output, next_hidden = rnn(x[5], next_hidden)\n",
    "output, next_hidden = rnn(x[6], next_hidden)\n",
    "print(output.argmax(-1))"
   ]
  },
  {
   "cell_type": "markdown",
   "metadata": {
    "id": "7ZH4fIXmuUGC"
   },
   "source": [
    "## Preparing for training! ##"
   ]
  },
  {
   "cell_type": "code",
   "metadata": {
    "id": "aHhkw2PfuUGC",
    "outputId": "d3f86a06-a01e-4e09-aa27-464b0286313b",
    "colab": {
     "base_uri": "https://localhost:8080/"
    },
    "ExecuteTime": {
     "end_time": "2025-06-08T14:30:51.989263Z",
     "start_time": "2025-06-08T08:41:17.980410Z"
    }
   },
   "source": [
    "# Helper function to get the actual category from the best\n",
    "\n",
    "def categoryFromOutput(output):\n",
    "    top_n, top_i = output.topk(1)\n",
    "    category_i = top_i[0].item()\n",
    "    return all_categories[category_i], category_i\n",
    "\n",
    "print(categoryFromOutput(output))"
   ],
   "outputs": [
    {
     "ename": "NameError",
     "evalue": "name 'output' is not defined",
     "output_type": "error",
     "traceback": [
      "\u001B[0;31m---------------------------------------------------------------------------\u001B[0m",
      "\u001B[0;31mNameError\u001B[0m                                 Traceback (most recent call last)",
      "Cell \u001B[0;32mIn[8], line 8\u001B[0m\n\u001B[1;32m      5\u001B[0m     category_i \u001B[38;5;241m=\u001B[39m top_i[\u001B[38;5;241m0\u001B[39m]\u001B[38;5;241m.\u001B[39mitem()\n\u001B[1;32m      6\u001B[0m     \u001B[38;5;28;01mreturn\u001B[39;00m all_categories[category_i], category_i\n\u001B[0;32m----> 8\u001B[0m \u001B[38;5;28mprint\u001B[39m(categoryFromOutput(\u001B[43moutput\u001B[49m))\n",
      "\u001B[0;31mNameError\u001B[0m: name 'output' is not defined"
     ]
    }
   ],
   "execution_count": 8
  },
  {
   "cell_type": "markdown",
   "metadata": {
    "id": "wcJkVs-0uUGC"
   },
   "source": [
    "### Quick way to get training example (Src = Name, Trg = Language) ###"
   ]
  },
  {
   "cell_type": "code",
   "metadata": {
    "id": "2C8qeLDPuUGC",
    "outputId": "204efac2-8d20-4c1b-b187-0d86f50d7cf1",
    "colab": {
     "base_uri": "https://localhost:8080/"
    },
    "ExecuteTime": {
     "end_time": "2025-06-08T14:30:51.989381Z",
     "start_time": "2025-06-08T09:02:42.757773Z"
    }
   },
   "source": [
    "def randomChoice(l):\n",
    "    return l[random.randint(0, len(l) - 1)]\n",
    "\n",
    "def randomTrainingExample():\n",
    "    category = randomChoice(all_categories)\n",
    "    line = randomChoice(category_lines[category])\n",
    "    category_tensor = torch.tensor([all_categories.index(category)], dtype=torch.long)\n",
    "    line_tensor = lineToTensor(line)\n",
    "    return category, line, category_tensor, line_tensor\n",
    "\n",
    "for i in range(10):\n",
    "    category, line, category_tensor, line_tensor = randomTrainingExample()\n",
    "    print('category =', category, '/ line =', line)"
   ],
   "outputs": [
    {
     "ename": "NameError",
     "evalue": "name 'all_categories' is not defined",
     "output_type": "error",
     "traceback": [
      "\u001B[0;31m---------------------------------------------------------------------------\u001B[0m",
      "\u001B[0;31mNameError\u001B[0m                                 Traceback (most recent call last)",
      "Cell \u001B[0;32mIn[9], line 12\u001B[0m\n\u001B[1;32m      9\u001B[0m     \u001B[38;5;28;01mreturn\u001B[39;00m category, line, category_tensor, line_tensor\n\u001B[1;32m     11\u001B[0m \u001B[38;5;28;01mfor\u001B[39;00m i \u001B[38;5;129;01min\u001B[39;00m \u001B[38;5;28mrange\u001B[39m(\u001B[38;5;241m10\u001B[39m):\n\u001B[0;32m---> 12\u001B[0m     category, line, category_tensor, line_tensor \u001B[38;5;241m=\u001B[39m \u001B[43mrandomTrainingExample\u001B[49m\u001B[43m(\u001B[49m\u001B[43m)\u001B[49m\n\u001B[1;32m     13\u001B[0m     \u001B[38;5;28mprint\u001B[39m(\u001B[38;5;124m'\u001B[39m\u001B[38;5;124mcategory =\u001B[39m\u001B[38;5;124m'\u001B[39m, category, \u001B[38;5;124m'\u001B[39m\u001B[38;5;124m/ line =\u001B[39m\u001B[38;5;124m'\u001B[39m, line)\n",
      "Cell \u001B[0;32mIn[9], line 5\u001B[0m, in \u001B[0;36mrandomTrainingExample\u001B[0;34m()\u001B[0m\n\u001B[1;32m      4\u001B[0m \u001B[38;5;28;01mdef\u001B[39;00m\u001B[38;5;250m \u001B[39m\u001B[38;5;21mrandomTrainingExample\u001B[39m():\n\u001B[0;32m----> 5\u001B[0m     category \u001B[38;5;241m=\u001B[39m randomChoice(\u001B[43mall_categories\u001B[49m)\n\u001B[1;32m      6\u001B[0m     line \u001B[38;5;241m=\u001B[39m randomChoice(category_lines[category])\n\u001B[1;32m      7\u001B[0m     category_tensor \u001B[38;5;241m=\u001B[39m torch\u001B[38;5;241m.\u001B[39mtensor([all_categories\u001B[38;5;241m.\u001B[39mindex(category)], dtype\u001B[38;5;241m=\u001B[39mtorch\u001B[38;5;241m.\u001B[39mlong)\n",
      "\u001B[0;31mNameError\u001B[0m: name 'all_categories' is not defined"
     ]
    }
   ],
   "execution_count": 9
  },
  {
   "cell_type": "code",
   "execution_count": 55,
   "metadata": {
    "id": "SNiUZiPzuUGC"
   },
   "outputs": [],
   "source": [
    "def timeSince(since):\n",
    "    now = time.time()\n",
    "    s = now - since\n",
    "    m = math.floor(s / 60)\n",
    "    s -= m * 60\n",
    "    return '%dm %ds' % (m, s)\n"
   ]
  },
  {
   "cell_type": "markdown",
   "metadata": {
    "id": "u8anePKNuUGD"
   },
   "source": [
    "## Train now!!! ##"
   ]
  },
  {
   "cell_type": "code",
   "execution_count": 57,
   "metadata": {
    "id": "sn6VaoZluUGD"
   },
   "outputs": [],
   "source": [
    "def train(category_tensor, line_tensor, optim, criterion, model):\n",
    "    \n",
    "    model.train()\n",
    "    hidden = model.initHidden()\n",
    "    model.zero_grad()\n",
    "    \n",
    "    category_tensor = category_tensor.to(device)\n",
    "    line_tensor = line_tensor.to(device)\n",
    "\n",
    "    # Iterate through the whole line!\n",
    "    for i in range(line_tensor.size()[0]):\n",
    "        hidden = hidden.to(device)\n",
    "        output, hidden = model(line_tensor[i], hidden)\n",
    "\n",
    "    loss = criterion(output, category_tensor)\n",
    "    \n",
    "    # zero the parameter gradients\n",
    "    optim.zero_grad()\n",
    "    loss.backward()\n",
    "    optim.step()\n",
    "\n",
    "    return output, loss.item()"
   ]
  },
  {
   "cell_type": "markdown",
   "metadata": {
    "id": "PvFb32TruUGD"
   },
   "source": [
    "#### Train with the RNN from scrath ####"
   ]
  },
  {
   "cell_type": "code",
   "execution_count": 58,
   "metadata": {
    "id": "hJsjzrjRuUGD",
    "outputId": "a0f08b5f-a09b-4fab-9ed3-125e95f82d14",
    "colab": {
     "base_uri": "https://localhost:8080/"
    }
   },
   "outputs": [
    {
     "output_type": "stream",
     "name": "stdout",
     "text": [
      "5000 50% (0m 8s) 2.3201 Kwei / Korean ✗ (Chinese)\n",
      "10000 100% (0m 17s) 5.2702 Lis / Korean ✗ (Polish)\n"
     ]
    }
   ],
   "source": [
    "criterion = nn.NLLLoss() # Because we are using Log_softmax\n",
    "learning_rate = 0.005 # If you set this too high, it might explode. If too low, it might not learn\n",
    "N_HIDDEN = 128\n",
    "\n",
    "model_basic = RNN(n_letters, N_HIDDEN, n_categories) #Vocab_size, hidden size, output classes\n",
    "model_basic = model_basic.to(device)\n",
    "optimizer = optim.SGD(model_basic.parameters(), lr=learning_rate)\n",
    "\n",
    "n_iters = 10000\n",
    "print_every = 5000\n",
    "plot_every = 1000\n",
    "\n",
    "# Keep track of losses for plotting\n",
    "current_loss = 0\n",
    "all_losses = []\n",
    "\n",
    "start = time.time()\n",
    "\n",
    "for iter in range(1, n_iters + 1):\n",
    "    category, line, category_tensor, line_tensor = randomTrainingExample()\n",
    "    output, loss = train(category_tensor, line_tensor, optimizer, criterion, model_basic)\n",
    "    current_loss += loss\n",
    "\n",
    "    # Print iter number, loss, name and guess\n",
    "    if iter % print_every == 0:\n",
    "        guess, guess_i = categoryFromOutput(output)\n",
    "        correct = '✓' if guess == category else '✗ (%s)' % category\n",
    "        print('%d %d%% (%s) %.4f %s / %s %s' % (iter, iter / n_iters * 100, timeSince(start), loss, line, guess, correct))\n",
    "\n",
    "    # Add current loss avg to list of losses\n",
    "    if iter % plot_every == 0:\n",
    "        all_losses.append(current_loss / plot_every)\n",
    "        current_loss = 0"
   ]
  },
  {
   "cell_type": "code",
   "execution_count": 59,
   "metadata": {
    "id": "Cht6CoG8uUGD",
    "outputId": "bfa47d5e-5876-4d33-e6e8-484dd2288193",
    "colab": {
     "base_uri": "https://localhost:8080/",
     "height": 283
    }
   },
   "outputs": [
    {
     "output_type": "execute_result",
     "data": {
      "text/plain": [
       "[<matplotlib.lines.Line2D at 0x7f810b8a1490>]"
      ]
     },
     "metadata": {},
     "execution_count": 59
    },
    {
     "output_type": "display_data",
     "data": {
      "text/plain": [
       "<Figure size 432x288 with 1 Axes>"
      ],
      "image/png": "[encoded data removed]"
     },
     "metadata": {
      "needs_background": "light"
     }
    }
   ],
   "source": [
    "# PLOT THE RESULT\n",
    "\n",
    "import matplotlib.pyplot as plt\n",
    "import matplotlib.ticker as ticker\n",
    "\n",
    "plt.figure()\n",
    "plt.plot(all_losses)"
   ]
  },
  {
   "cell_type": "markdown",
   "metadata": {
    "id": "kg7esg4muUGD"
   },
   "source": [
    "## Evaluate the results with a confusion matrix! ##"
   ]
  },
  {
   "cell_type": "code",
   "execution_count": 60,
   "metadata": {
    "id": "uzKItQSsuUGD",
    "outputId": "d7355588-5337-4df1-cd03-8bb6ebd84f51",
    "colab": {
     "base_uri": "https://localhost:8080/",
     "height": 320
    }
   },
   "outputs": [
    {
     "output_type": "display_data",
     "data": {
      "text/plain": [
       "<Figure size 432x288 with 2 Axes>"
      ],
      "image/png": "[encoded data removed]"
     },
     "metadata": {
      "needs_background": "light"
     }
    }
   ],
   "source": [
    "# Keep track of correct guesses in a confusion matrix\n",
    "confusion = torch.zeros(n_categories, n_categories)\n",
    "n_confusion = 10000\n",
    "\n",
    "# Just return an output given a line\n",
    "def evaluate(line_tensor, model):\n",
    "    model.eval()\n",
    "    hidden = model.initHidden()\n",
    "    line_tensor = line_tensor.to(device)\n",
    "\n",
    "    for i in range(line_tensor.size()[0]):\n",
    "        hidden = hidden.to(device)\n",
    "        output, hidden = model(line_tensor[i], hidden)\n",
    "\n",
    "    return output\n",
    "\n",
    "# Go through a bunch of examples and record which are correctly guessed\n",
    "for i in range(n_confusion):\n",
    "    category, line, category_tensor, line_tensor = randomTrainingExample()\n",
    "    output = evaluate(line_tensor, model_basic)\n",
    "    guess, guess_i = categoryFromOutput(output)\n",
    "    category_i = all_categories.index(category)\n",
    "    confusion[category_i][guess_i] += 1\n",
    "\n",
    "# Normalize by dividing every row by its sum\n",
    "for i in range(n_categories):\n",
    "    confusion[i] = confusion[i] / confusion[i].sum()\n",
    "\n",
    "# Set up plot\n",
    "fig = plt.figure()\n",
    "ax = fig.add_subplot(111)\n",
    "cax = ax.matshow(confusion.numpy())\n",
    "fig.colorbar(cax)\n",
    "\n",
    "# Set up axes\n",
    "ax.set_xticklabels([''] + all_categories, rotation=90)\n",
    "ax.set_yticklabels([''] + all_categories)\n",
    "\n",
    "# Force label at every tick\n",
    "ax.xaxis.set_major_locator(ticker.MultipleLocator(1))\n",
    "ax.yaxis.set_major_locator(ticker.MultipleLocator(1))\n",
    "\n",
    "# sphinx_gallery_thumbnail_number = 2\n",
    "plt.show()"
   ]
  },
  {
   "cell_type": "markdown",
   "metadata": {
    "id": "kmsE1es5uUGE"
   },
   "source": [
    "## Now we can try predicting our own things! ##"
   ]
  },
  {
   "cell_type": "code",
   "execution_count": 61,
   "metadata": {
    "id": "riBQ2g2iuUGE",
    "outputId": "25a7ac8c-a90f-4d09-cd32-9373d9dec480",
    "colab": {
     "base_uri": "https://localhost:8080/"
    }
   },
   "outputs": [
    {
     "output_type": "stream",
     "name": "stdout",
     "text": [
      "\n",
      "> Dovesky\n",
      "(-1.66) Russian\n",
      "(-1.90) Polish\n",
      "(-2.03) Irish\n",
      "\n",
      "> Jackson\n",
      "(-1.56) Irish\n",
      "(-1.81) Scottish\n",
      "(-1.91) Russian\n",
      "\n",
      "> Satoshi\n",
      "(-1.64) Italian\n",
      "(-1.97) Polish\n",
      "(-1.98) Japanese\n",
      "\n",
      "> Alberto\n",
      "(-1.68) Italian\n",
      "(-2.04) Portuguese\n",
      "(-2.10) Spanish\n"
     ]
    }
   ],
   "source": [
    "def predict(input_line, n_predictions=3):\n",
    "    print('\\n> %s' % input_line)\n",
    "    with torch.no_grad():\n",
    "        output = evaluate(lineToTensor(input_line), model_basic)\n",
    "\n",
    "        # Get top N categories\n",
    "        topv, topi = output.topk(n_predictions, 1, True)\n",
    "        predictions = []\n",
    "\n",
    "        for i in range(n_predictions):\n",
    "            value = topv[0][i].item()\n",
    "            category_index = topi[0][i].item()\n",
    "            print('(%.2f) %s' % (value, all_categories[category_index]))\n",
    "            predictions.append([value, all_categories[category_index]])\n",
    "\n",
    "predict('Dovesky')\n",
    "predict('Jackson')\n",
    "predict('Satoshi')\n",
    "predict('Alberto')"
   ]
  },
  {
   "cell_type": "markdown",
   "metadata": {
    "id": "xwp5RUYAuUGE"
   },
   "source": [
    "### So now lets shift to using the RNN Module from Pytorch ###"
   ]
  },
  {
   "cell_type": "code",
   "execution_count": 62,
   "metadata": {
    "id": "hTRGi1tvuUGE",
    "outputId": "384d256f-7e6f-4c64-8512-bdab61dc3099",
    "colab": {
     "base_uri": "https://localhost:8080/"
    }
   },
   "outputs": [
    {
     "output_type": "stream",
     "name": "stdout",
     "text": [
      "category = Irish / line = O'Gorman\n",
      "category = Spanish / line = De leon\n",
      "category = Vietnamese / line = Do\n",
      "category = Portuguese / line = Cardozo\n",
      "category = Polish / line = Koziol\n",
      "category = Chinese / line = Chaim\n",
      "category = Spanish / line = Oriol\n",
      "category = Russian / line = Jadryshnikov\n",
      "category = Czech / line = Ponec\n",
      "category = Scottish / line = Hamilton\n"
     ]
    }
   ],
   "source": [
    "def categoryToTensor(category):\n",
    "#     tensor = torch.zeros([1, 1], dtype=torch.long)\n",
    "#     tensor[0][0] = all_categories.index(category)\n",
    "    tensor = torch.zeros([1, len(all_categories)], dtype=torch.long)\n",
    "    tensor[0][all_categories.index(category)] = 1\n",
    "    return tensor\n",
    "\n",
    "def randomChoice(l):\n",
    "    return l[random.randint(0, len(l) - 1)]\n",
    "\n",
    "def randomTrainingExample():\n",
    "    category = randomChoice(all_categories)\n",
    "    line = randomChoice(category_lines[category])\n",
    "    category_tensor = categoryToTensor(category)\n",
    "    line_tensor = lineToTensor(line)\n",
    "    return category, line, category_tensor, line_tensor\n",
    "\n",
    "for i in range(10):\n",
    "    category, line, category_tensor, line_tensor = randomTrainingExample()\n",
    "    print('category =', category, '/ line =', line)\n",
    "#     print(category_tensor.shape)"
   ]
  },
  {
   "cell_type": "code",
   "execution_count": 63,
   "metadata": {
    "id": "aV7pI3_CuUGE"
   },
   "outputs": [],
   "source": [
    "class RNNPytorch(nn.Module):\n",
    "    def __init__(self, input_size, hidden_size, output_size):\n",
    "        super(RNNPytorch, self).__init__()\n",
    "\n",
    "        self.hidden_size = hidden_size\n",
    "        \n",
    "        self.rnn = nn.RNN(input_size, hidden_size, num_layers=1, batch_first=True) # 1 is num_layers\n",
    "        self.fc = nn.Linear(hidden_size, output_size)\n",
    "        self.lsoftmax = nn.LogSoftmax(dim=1)\n",
    "\n",
    "    def forward(self, x, hidden):\n",
    "\n",
    "        hidden, output = self.rnn(x, hidden)\n",
    "\n",
    "        output = output.contiguous().view(-1, self.hidden_size)\n",
    "        output = self.fc(output)\n",
    "        output = self.lsoftmax(output)\n",
    "        \n",
    "        return output, hidden\n",
    "\n",
    "    def initHidden(self, batch_size):\n",
    "        return torch.zeros(1, 1, self.hidden_size)"
   ]
  },
  {
   "cell_type": "code",
   "execution_count": 64,
   "metadata": {
    "id": "ym7RVeKHuUGE"
   },
   "outputs": [],
   "source": [
    "def train_pytorch_model(category_tensor, line_tensor, optim, criterion, model):\n",
    "    \n",
    "    model.train()\n",
    "    hidden = model.initHidden(line_tensor.shape[1])\n",
    "    model.zero_grad()\n",
    "    line_tensor = line_tensor.permute(1, 0, 2)\n",
    "#     print(line_tensor.shape)\n",
    "    \n",
    "#     print(category_tensor.shape)\n",
    "    category_tensor = category_tensor.to(device)\n",
    "    line_tensor = line_tensor.to(device)\n",
    "    \n",
    "    # Iterate through the whole line!\n",
    "    hidden = hidden.to(device)\n",
    "    output, hidden = model(line_tensor, hidden)\n",
    "\n",
    "    loss = criterion(output, torch.topk(category_tensor, 1).indices.view(-1))\n",
    "    \n",
    "    # zero the parameter gradients\n",
    "    optim.zero_grad()\n",
    "    loss.backward()\n",
    "    optim.step()\n",
    "\n",
    "    return output, loss.item()"
   ]
  },
  {
   "cell_type": "markdown",
   "metadata": {
    "id": "VAfzhojnuUGE"
   },
   "source": "#### Train from the RNN using pytorch approach ####"
  },
  {
   "cell_type": "code",
   "execution_count": 65,
   "metadata": {
    "id": "EfKG1mWXuUGE",
    "outputId": "818c9dbd-577c-49f4-ae1d-5e06f43c412b",
    "colab": {
     "base_uri": "https://localhost:8080/"
    }
   },
   "outputs": [
    {
     "output_type": "stream",
     "name": "stdout",
     "text": [
      "5000 5% (0m 6s) 2.9949 Bran / Chinese ✗ (Irish)\n",
      "10000 10% (0m 13s) 1.1129 Mosconi / Italian ✓\n",
      "15000 15% (0m 19s) 1.5127 Truong / Korean ✗ (Vietnamese)\n",
      "20000 20% (0m 26s) 1.1294 Ho / Vietnamese ✓\n",
      "25000 25% (0m 33s) 3.9603 Wornhor / Scottish ✗ (German)\n",
      "30000 30% (0m 40s) 1.2015 Kim / Korean ✓\n",
      "35000 35% (0m 46s) 2.4278 Amato / Japanese ✗ (Italian)\n",
      "40000 40% (0m 53s) 1.4174 Shaw / Korean ✗ (Chinese)\n",
      "45000 45% (0m 59s) 0.0204 Shiroyama / Japanese ✓\n",
      "50000 50% (1m 6s) 0.0722 Nakahara / Japanese ✓\n",
      "55000 55% (1m 12s) 3.6488 Boutros / Portuguese ✗ (Arabic)\n",
      "60000 60% (1m 19s) 0.9673 Peatain / French ✗ (Irish)\n",
      "65000 65% (1m 26s) 0.9108 Alldridge / English ✓\n",
      "70000 70% (1m 33s) 3.0558 Rheem / Chinese ✗ (Korean)\n",
      "75000 75% (1m 39s) 0.2855 Pokhlebkin / Russian ✓\n",
      "80000 80% (1m 46s) 0.2756 Nguyen / Vietnamese ✓\n",
      "85000 85% (1m 53s) 0.1464 Kalakos / Greek ✓\n",
      "90000 90% (2m 0s) 0.5290 Fung / Chinese ✓\n",
      "95000 95% (2m 6s) 0.3938 Dubhan / Irish ✓\n",
      "100000 100% (2m 13s) 0.3336 Houttum / Dutch ✓\n"
     ]
    }
   ],
   "source": [
    "criterion = nn.NLLLoss() # Because we are using Log_softmax\n",
    "learning_rate = 0.005 # If you set this too high, it might explode. If too low, it might not learn\n",
    "N_HIDDEN = 128\n",
    "\n",
    "model_pytorch = RNNPytorch(n_letters, N_HIDDEN, n_categories) #Vocab_size, hidden size, output classes\n",
    "model_pytorch = model_pytorch.to(device)\n",
    "optimizer = optim.SGD(model_pytorch.parameters(), lr=learning_rate)\n",
    "\n",
    "n_iters = 100000\n",
    "print_every = 5000\n",
    "plot_every = 1000\n",
    "\n",
    "# Keep track of losses for plotting\n",
    "current_loss = 0\n",
    "all_losses = []\n",
    "\n",
    "start = time.time()\n",
    "\n",
    "for iter in range(1, n_iters + 1):\n",
    "    category, line, category_tensor, line_tensor = randomTrainingExample()\n",
    "    output, loss = train_pytorch_model(category_tensor, line_tensor, optimizer, criterion, model_pytorch)\n",
    "    current_loss += loss\n",
    "    # Print iter number, loss, name and guess\n",
    "    if iter % print_every == 0:\n",
    "        guess, guess_i = categoryFromOutput(output)\n",
    "        correct = '✓' if guess == category else '✗ (%s)' % category\n",
    "        print('%d %d%% (%s) %.4f %s / %s %s' % (iter, iter / n_iters * 100, timeSince(start), loss, line, guess, correct))\n",
    "\n",
    "    # Add current loss avg to list of losses\n",
    "    if iter % plot_every == 0:\n",
    "        all_losses.append(current_loss / plot_every)\n",
    "        current_loss = 0"
   ]
  },
  {
   "cell_type": "code",
   "execution_count": 66,
   "metadata": {
    "id": "eFAsPtDCuUGE",
    "outputId": "a85ac13d-d8cb-4348-8d71-e4bdd1b195fb",
    "colab": {
     "base_uri": "https://localhost:8080/",
     "height": 283
    }
   },
   "outputs": [
    {
     "output_type": "execute_result",
     "data": {
      "text/plain": [
       "[<matplotlib.lines.Line2D at 0x7f80fffcd890>]"
      ]
     },
     "metadata": {},
     "execution_count": 66
    },
    {
     "output_type": "display_data",
     "data": {
      "text/plain": [
       "<Figure size 432x288 with 1 Axes>"
      ],
      "image/png": "[encoded data removed]"
     },
     "metadata": {
      "needs_background": "light"
     }
    }
   ],
   "source": [
    "# PLOT THE RESULT\n",
    "\n",
    "import matplotlib.pyplot as plt\n",
    "import matplotlib.ticker as ticker\n",
    "\n",
    "plt.figure()\n",
    "plt.plot(all_losses)"
   ]
  },
  {
   "cell_type": "code",
   "execution_count": 67,
   "metadata": {
    "id": "_qw4fy_AuUGF"
   },
   "outputs": [],
   "source": [
    "# Just return an output given a line\n",
    "def evaluate(line_tensor, model):\n",
    "    model.eval()\n",
    "    hidden = model.initHidden(line_tensor.shape[1])\n",
    "    hidden = hidden.to(device)\n",
    "\n",
    "    line_tensor = line_tensor.permute(1, 0, 2)\n",
    "    line_tensor = line_tensor.to(device)\n",
    "    output, hidden = model(line_tensor, hidden)\n",
    "    \n",
    "    return output"
   ]
  },
  {
   "cell_type": "code",
   "execution_count": 68,
   "metadata": {
    "id": "bqd3cYAVuUGF",
    "outputId": "0d6832a5-51f9-4507-fe0a-68e08866c905",
    "colab": {
     "base_uri": "https://localhost:8080/"
    }
   },
   "outputs": [
    {
     "output_type": "stream",
     "name": "stdout",
     "text": [
      "\n",
      "> Dovesky\n",
      "(-0.39) Russian\n",
      "(-2.20) Irish\n",
      "(-2.34) Czech\n",
      "\n",
      "> Jackson\n",
      "(-0.50) Scottish\n",
      "(-1.83) English\n",
      "(-2.30) Dutch\n",
      "\n",
      "> Satoshi\n",
      "(-0.12) Japanese\n",
      "(-2.75) Arabic\n",
      "(-3.28) Polish\n",
      "\n",
      "> Alberto\n",
      "(-0.97) Portuguese\n",
      "(-1.17) Spanish\n",
      "(-1.43) Italian\n"
     ]
    }
   ],
   "source": [
    "def predict(input_line, n_predictions=3):\n",
    "    print('\\n> %s' % input_line)\n",
    "    with torch.no_grad():\n",
    "        output = evaluate(lineToTensor(input_line), model_pytorch)\n",
    "\n",
    "        # Get top N categories\n",
    "        topv, topi = output.topk(n_predictions, 1, True)\n",
    "        predictions = []\n",
    "\n",
    "        for i in range(n_predictions):\n",
    "            value = topv[0][i].item()\n",
    "            category_index = topi[0][i].item()\n",
    "            print('(%.2f) %s' % (value, all_categories[category_index]))\n",
    "            predictions.append([value, all_categories[category_index]])\n",
    "\n",
    "predict('Dovesky')\n",
    "predict('Jackson')\n",
    "predict('Satoshi')\n",
    "predict('Alberto')"
   ]
  },
  {
   "cell_type": "code",
   "execution_count": null,
   "metadata": {
    "id": "x6dicpKmuUGF"
   },
   "outputs": [],
   "source": [
    ""
   ]
  },
  {
   "cell_type": "markdown",
   "metadata": {
    "id": "hoLQzvvxuUGF"
   },
   "source": [
    "## Now one of your assigments is to adapt/expand this text classifier! ##\n",
    "\n",
    "- Adapt the task to another similar task\n",
    "- Use LSTMs or GRU to compare with both Vanilla RNN approaches\n",
    "\n",
    "You can keep it at character-level or you can extend it to word-level (the vocabulary will change)\n",
    "\n",
    "Try with different datasets with a similar Input/Output system:\n",
    "- Book or character name -> writer\n",
    "- Game's titles -> company or genre\n",
    "- Any word -> language\n",
    "- Whatever you can think it can be classified"
   ]
  },
  {
   "metadata": {},
   "cell_type": "markdown",
   "source": [
    "Assignment-Lab03-part03\n",
    "\n",
    "My plan is to implement, I will give genre, and my program will produce a title of game.\n",
    "\n",
    "So, I have to train the model sequence of letters and category like genre.\n",
    "\n",
    "Input: A game genre (like \"Action\", \"Puzzle\", \"RPG\")\n",
    "Output: A game title (like \"Halo\", \"Tetris\", \"Final Fantasy\")"
   ]
  },
  {
   "metadata": {
    "ExecuteTime": {
     "end_time": "2025-06-09T17:42:16.589517Z",
     "start_time": "2025-06-09T17:42:16.141202Z"
    }
   },
   "cell_type": "code",
   "source": [
    "import unicodedata\n",
    "import string\n",
    "import pandas as pd\n",
    "from collections import defaultdict\n",
    "\n",
    "all_letters = string.ascii_letters + \" .,;'-\"\n",
    "n_letters = len(all_letters) + 1 # Plus EOS marker\n",
    "\n",
    "# Turn a Unicode string to plain ASCII, thanks to https://stackoverflow.com/a/518232/2809427\n",
    "def unicodeToAscii(s):\n",
    "    return ''.join(\n",
    "        c for c in unicodedata.normalize('NFD', s)\n",
    "        if unicodedata.category(c) != 'Mn'\n",
    "        and c in all_letters\n",
    "    )\n",
    "\n",
    "all_genre = []\n",
    "all_title = defaultdict(list) # [genre] = title mapping\n",
    "\n",
    "\n",
    "data = pd.read_csv('vgsales.csv')\n",
    "print(data.columns)\n",
    "\n",
    "data_title = data['Name']\n",
    "data_genre = data['Genre']\n",
    "data_publisher = data['Publisher']\n",
    "\n",
    "# print(data_title.shape)\n",
    "# print(data_genre.shape)\n",
    "# print(data_publisher.shape)\n",
    "\n",
    "all_genre =  list(set(data_genre))\n",
    "n_categories = len(all_genre)\n",
    "\n",
    "print(all_genre)\n",
    "\n",
    "for _, row in data.iterrows():\n",
    "    name = row['Name']\n",
    "    genre = row['Genre']\n",
    "\n",
    "    if pd.notnull(name) and pd.notnull(genre):\n",
    "        name_ = unicodeToAscii(str(name).strip())\n",
    "        if name_:\n",
    "            all_title[genre].append(name_)\n",
    "        \n",
    "print(all_title['Simulation'][:5]) "
   ],
   "outputs": [
    {
     "name": "stdout",
     "output_type": "stream",
     "text": [
      "Index(['Rank', 'Name', 'Platform', 'Year', 'Genre', 'Publisher', 'NA_Sales',\n",
      "       'EU_Sales', 'JP_Sales', 'Other_Sales', 'Global_Sales'],\n",
      "      dtype='object')\n",
      "['Adventure', 'Misc', 'Strategy', 'Sports', 'Puzzle', 'Platform', 'Shooter', 'Action', 'Fighting', 'Racing', 'Simulation', 'Role-Playing']\n",
      "['Nintendogs', 'Animal Crossing Wild World', 'Animal Crossing New Leaf', 'The Sims ', 'Cooking Mama']\n"
     ]
    }
   ],
   "execution_count": 114
  },
  {
   "metadata": {
    "ExecuteTime": {
     "end_time": "2025-06-09T18:19:15.645195Z",
     "start_time": "2025-06-09T18:19:15.624032Z"
    }
   },
   "cell_type": "code",
   "source": [
    "import random\n",
    "\n",
    "# Random item from a list\n",
    "def randomChoice(l):\n",
    "    return l[random.randint(0, len(l) - 1)]\n",
    "\n",
    "# Get a random category and random line from that category\n",
    "def randomTrainingPair():\n",
    "    category = randomChoice(all_genre)\n",
    "    line = randomChoice(all_title[category])\n",
    "    # print(f\"line and category {line} {category}\")\n",
    "    if line:\n",
    "        return category, line\n",
    "\n",
    "# print(randomTrainingPair())\n",
    "\n",
    "# One-hot vector for category\n",
    "def categoryTensor(category):\n",
    "    li = all_genre.index(category)\n",
    "    # print(li)\n",
    "    tensor = torch.zeros(1, n_categories)\n",
    "    tensor[0][li] = 1\n",
    "    return tensor\n",
    "\n",
    "# One-hot matrix of first to last letters (not including EOS) for input\n",
    "def inputTensor(line):\n",
    "    tensor = torch.zeros(len(line), 1, n_letters)\n",
    "    # print(tensor.shape)\n",
    "    for li in range(len(line)):\n",
    "        letter = line[li]\n",
    "        tensor[li][0][all_letters.find(letter)] = 1\n",
    "    return tensor\n",
    "\n",
    "# print(inputTensor(\"and\"))\n",
    "\n",
    "# ``LongTensor`` of second letter to end (EOS) for target\n",
    "def targetTensor(line):\n",
    "    letter_indexes = [all_letters.find(line[li]) for li in range(1, len(line))]\n",
    "    letter_indexes.append(n_letters - 1) # EOS\n",
    "    return torch.LongTensor(letter_indexes)\n",
    "\n",
    "\n",
    "# print(targetTensor(\"abc\"))\n",
    "\n",
    "# Make category, input, and target tensors from a random category, line pair\n",
    "def randomTrainingExample():\n",
    "    category, line = randomTrainingPair()\n",
    "    category_tensor = categoryTensor(category)\n",
    "    input_line_tensor = inputTensor(line)\n",
    "    target_line_tensor = targetTensor(line)\n",
    "    return category_tensor, input_line_tensor, target_line_tensor\n",
    "\n",
    "a, b, c = randomTrainingExample()\n",
    "print(a.shape, b.shape, c.shape)\n",
    "print(a, b, c)\n",
    "\n"
   ],
   "outputs": [
    {
     "name": "stdout",
     "output_type": "stream",
     "text": [
      "torch.Size([1, 12]) torch.Size([25, 1, 59]) torch.Size([25])\n",
      "tensor([[0., 0., 0., 0., 0., 0., 0., 0., 1., 0., 0., 0.]]) tensor([[[0., 0., 0.,  ..., 0., 0., 0.]],\n",
      "\n",
      "        [[0., 0., 0.,  ..., 0., 0., 0.]],\n",
      "\n",
      "        [[1., 0., 0.,  ..., 0., 0., 0.]],\n",
      "\n",
      "        ...,\n",
      "\n",
      "        [[0., 0., 0.,  ..., 0., 0., 0.]],\n",
      "\n",
      "        [[0., 0., 0.,  ..., 0., 0., 0.]],\n",
      "\n",
      "        [[0., 0., 0.,  ..., 0., 0., 0.]]]) tensor([11,  0, 25, 27, 11, 20,  4, 52, 28,  0, 11,  0, 12,  8, 19, 24, 52, 45,\n",
      "        17,  8,  6,  6,  4, 17, 58])\n"
     ]
    }
   ],
   "execution_count": 162
  },
  {
   "metadata": {},
   "cell_type": "code",
   "outputs": [],
   "execution_count": null,
   "source": ""
  },
  {
   "metadata": {
    "ExecuteTime": {
     "end_time": "2025-06-09T18:35:55.868609Z",
     "start_time": "2025-06-09T18:35:55.861396Z"
    }
   },
   "cell_type": "code",
   "source": [
    "import torch\n",
    "import torch.nn as nn\n",
    "\n",
    "class RNN_Own(nn.Module):\n",
    "    def __init__(self, input_size, hidden_size, output_size):\n",
    "        super(RNN_Own, self).__init__()\n",
    "        self.hidden_size = hidden_size\n",
    "        \n",
    "        self.rnn = nn.RNN(input_size + n_categories, hidden_size, batch_first=True)\n",
    "        self.fc = nn.Linear(hidden_size, output_size)\n",
    "        self.lsoftmax = nn.LogSoftmax(dim=1)\n",
    "\n",
    "    def forward(self, category, input, hidden):\n",
    "        seq_len, batch_size, _ = input.size()\n",
    "    \n",
    "        # (batch_size, seq_len, n_categories)\n",
    "        category_expanded = category.unsqueeze(1).expand(batch_size, seq_len, -1)\n",
    "        \n",
    "        # print(f\"category_expanded.shape\",category_expanded.shape)\n",
    "        # print(f\"input.shape\", input.shape)\n",
    "        input = input.permute(1, 0, 2)\n",
    "    \n",
    "        # concat on the last dim\n",
    "        rnn_input = torch.cat((category_expanded, input), dim=2)  # (batch_size, seq_len, input_size + n_categories)\n",
    "        \n",
    "        # print(f\"rnn_input.shape\", rnn_input.shape)\n",
    "    \n",
    "        output, hidden = self.rnn(rnn_input, hidden)  # hidden: (num_layers, batch_size, hidden_size)\n",
    "    \n",
    "        output = output.contiguous().view(-1, self.hidden_size)  # (batch_size * seq_len, hidden_size)\n",
    "        output = self.fc(output)  # (batch_size * seq_len, output_size)\n",
    "        output = self.lsoftmax(output)\n",
    "    \n",
    "        return output, hidden\n",
    "\n",
    "\n",
    "    def initHidden(self, batch_size= 1):\n",
    "        return torch.zeros(1, batch_size, self.hidden_size)"
   ],
   "outputs": [],
   "execution_count": 177
  },
  {
   "metadata": {
    "ExecuteTime": {
     "end_time": "2025-06-09T18:44:53.459961Z",
     "start_time": "2025-06-09T18:44:53.435496Z"
    }
   },
   "cell_type": "code",
   "source": [
    "rnn = RNN_Own(n_letters, 128, n_letters)\n",
    "import torch.optim as optim\n",
    "criterion = nn.NLLLoss()\n",
    "learning_rate = 0.0005\n",
    "optimizer = optim.Adam(rnn.parameters(), lr=learning_rate)\n",
    "\n",
    "def train(category_tensor, input_tensor, target_tensor):\n",
    "    hidden = rnn.initHidden()\n",
    "    rnn.zero_grad()\n",
    "\n",
    "    output, hidden = rnn(category_tensor, input_tensor, hidden)\n",
    "    \n",
    "    # print(f\"target tensor fixed \", target_tensor[-2])\n",
    "    # print(f\"target tensor\", target_tensor.shape)\n",
    "    # print(f\"output tensor\", output.shape)\n",
    "    \n",
    "    # print(output)\n",
    "    # print(target_tensor)\n",
    "    \n",
    "    loss = criterion(output, target_tensor)\n",
    "\n",
    "    loss.backward()\n",
    "    optimizer.step()\n",
    "\n",
    "    return output, loss.item()\n"
   ],
   "outputs": [],
   "execution_count": 195
  },
  {
   "metadata": {
    "ExecuteTime": {
     "end_time": "2025-06-09T18:44:54.272099Z",
     "start_time": "2025-06-09T18:44:54.269860Z"
    }
   },
   "cell_type": "code",
   "source": [
    "import time\n",
    "import math\n",
    "\n",
    "def timeSince(since):\n",
    "    now = time.time()\n",
    "    s = now - since\n",
    "    m = math.floor(s / 60)\n",
    "    s -= m * 60\n",
    "    return '%dm %ds' % (m, s)"
   ],
   "outputs": [],
   "execution_count": 196
  },
  {
   "metadata": {
    "ExecuteTime": {
     "end_time": "2025-06-09T18:47:15.593521Z",
     "start_time": "2025-06-09T18:45:05.205555Z"
    }
   },
   "cell_type": "code",
   "source": [
    "n_iters = 100000\n",
    "print_every = 5000\n",
    "plot_every = 500\n",
    "all_losses = []\n",
    "total_loss = 0 # Reset every ``plot_every`` ``iters``\n",
    "\n",
    "start = time.time()\n",
    "\n",
    "for iter in range(1, n_iters + 1):\n",
    "    output, loss = train(*randomTrainingExample())\n",
    "    total_loss += loss\n",
    "\n",
    "    if iter % print_every == 0:\n",
    "        print('%s (%d %d%%) %.4f' % (timeSince(start), iter, iter / n_iters * 100, loss))\n",
    "\n",
    "    if iter % plot_every == 0:\n",
    "        all_losses.append(total_loss / plot_every)\n",
    "        total_loss = 0"
   ],
   "outputs": [
    {
     "name": "stdout",
     "output_type": "stream",
     "text": [
      "0m 7s (5000 5%) 2.3808\n",
      "0m 13s (10000 10%) 2.6885\n",
      "0m 20s (15000 15%) 2.3720\n",
      "0m 26s (20000 20%) 1.8227\n",
      "0m 33s (25000 25%) 3.0103\n",
      "0m 39s (30000 30%) 2.4906\n",
      "0m 46s (35000 35%) 2.2777\n",
      "0m 52s (40000 40%) 1.4805\n",
      "0m 59s (45000 45%) 2.3585\n",
      "1m 5s (50000 50%) 2.5146\n",
      "1m 12s (55000 55%) 1.8177\n",
      "1m 18s (60000 60%) 1.3019\n",
      "1m 24s (65000 65%) 1.2586\n",
      "1m 31s (70000 70%) 1.4834\n",
      "1m 37s (75000 75%) 1.1098\n",
      "1m 44s (80000 80%) 1.7895\n",
      "1m 50s (85000 85%) 1.5563\n",
      "1m 57s (90000 90%) 1.4782\n",
      "2m 3s (95000 95%) 1.4232\n",
      "2m 10s (100000 100%) 1.4831\n"
     ]
    }
   ],
   "execution_count": 198
  },
  {
   "cell_type": "code",
   "metadata": {
    "id": "QGMcpOVxuUGF",
    "ExecuteTime": {
     "end_time": "2025-06-09T19:00:15.983579Z",
     "start_time": "2025-06-09T19:00:14.616340Z"
    }
   },
   "source": [
    "import matplotlib.pyplot as plt\n",
    "\n",
    "plt.figure()\n",
    "plt.plot(all_losses)"
   ],
   "outputs": [
    {
     "data": {
      "text/plain": [
       "[<matplotlib.lines.Line2D at 0x11f888be0>]"
      ]
     },
     "execution_count": 199,
     "metadata": {},
     "output_type": "execute_result"
    },
    {
     "data": {
      "text/plain": [
       "<Figure size 640x480 with 1 Axes>"
      ],
      "image/png": "[encoded data removed]"
     },
     "metadata": {},
     "output_type": "display_data"
    }
   ],
   "execution_count": 199
  },
  {
   "metadata": {
    "ExecuteTime": {
     "end_time": "2025-06-09T19:19:38.508699Z",
     "start_time": "2025-06-09T19:19:38.490383Z"
    }
   },
   "cell_type": "code",
   "source": [
    "max_length = 100\n",
    "\n",
    "# Sample from a category and starting letter\n",
    "def sample(category, start_letter='A'):\n",
    "    with torch.no_grad():  # no need to track history in sampling\n",
    "        category_tensor = categoryTensor(category)\n",
    "        input = inputTensor(start_letter)\n",
    "        \n",
    "        hidden = rnn.initHidden()\n",
    "        output_name = start_letter\n",
    "        \n",
    "        # print(category_tensor.shape)\n",
    "        # print(input.shape)\n",
    "        # print(hidden.shape)\n",
    "        # print(output_name)\n",
    "\n",
    "        for i in range(max_length):\n",
    "            output, hidden = rnn(category_tensor, input, hidden)\n",
    "            #print(output.shape)\n",
    "            topv, topi = output.topk(1)\n",
    "            topi = topi[0][0]\n",
    "            if topi == n_letters - 1:\n",
    "                break\n",
    "            else:\n",
    "                letter = all_letters[topi]\n",
    "                output_name += letter\n",
    "            input = inputTensor(letter)\n",
    "\n",
    "        return output_name"
   ],
   "outputs": [],
   "execution_count": 211
  },
  {
   "metadata": {
    "ExecuteTime": {
     "end_time": "2025-06-09T19:19:39.311447Z",
     "start_time": "2025-06-09T19:19:39.281564Z"
    }
   },
   "cell_type": "code",
   "source": [
    "# Get multiple samples from one category and multiple starting letters\n",
    "def samples(category, start_letters='ABC'):\n",
    "    for start_letter in start_letters:\n",
    "        print(sample(category, start_letter))\n",
    "samples('Simulation')"
   ],
   "outputs": [
    {
     "name": "stdout",
     "output_type": "stream",
     "text": [
      "Armaghe Commander\n",
      "Battle Crazing Spin Bantary\n",
      "Cars \n"
     ]
    }
   ],
   "execution_count": 212
  },
  {
   "metadata": {},
   "cell_type": "markdown",
   "source": "LSTM implementation of the same database, I choose. "
  },
  {
   "metadata": {
    "ExecuteTime": {
     "end_time": "2025-06-09T20:40:44.618094Z",
     "start_time": "2025-06-09T20:40:44.606232Z"
    }
   },
   "cell_type": "code",
   "source": [
    "import torch\n",
    "import torch.nn as nn\n",
    "\n",
    "class LSTM_Own(nn.Module):\n",
    "    def __init__(self, input_size, hidden_size, output_size):\n",
    "        super(LSTM_Own, self).__init__()\n",
    "        self.hidden_size = hidden_size\n",
    "        \n",
    "        self.lstm = nn.LSTM(input_size + n_categories, hidden_size, batch_first=True)\n",
    "        self.fc = nn.Linear(hidden_size, output_size)\n",
    "        self.lsoftmax = nn.LogSoftmax(dim=1)\n",
    "\n",
    "    def forward(self, category, input, hidden):\n",
    "        seq_len, batch_size, _ = input.size()\n",
    "    \n",
    "        # (batch_size, seq_len, n_categories)\n",
    "        category_expanded = category.unsqueeze(1).expand(batch_size, seq_len, -1)\n",
    "        \n",
    "        # print(f\"category_expanded.shape\",category_expanded.shape)\n",
    "        # print(f\"input.shape\", input.shape)\n",
    "        input = input.permute(1, 0, 2)\n",
    "    \n",
    "        # concat on the last dim\n",
    "        lstm_input = torch.cat((category_expanded, input), dim=2)  # (batch_size, seq_len, input_size + n_categories)\n",
    "        \n",
    "        # print(f\"rnn_input.shape\", rnn_input.shape)\n",
    "    \n",
    "        output, hidden = self.lstm(lstm_input, hidden)  # hidden: (num_layers, batch_size, hidden_size)\n",
    "    \n",
    "        output = output.contiguous().view(-1, self.hidden_size)  # (batch_size * seq_len, hidden_size)\n",
    "        output = self.fc(output)  # (batch_size * seq_len, output_size)\n",
    "        output = self.lsoftmax(output)\n",
    "        \n",
    "        return output, hidden\n",
    "\n",
    "    def initHidden(self, batch_size=1):\n",
    "        h0 = torch.zeros(1, batch_size, self.hidden_size)\n",
    "        c0 = torch.zeros(1, batch_size, self.hidden_size)\n",
    "        return (h0, c0)\n"
   ],
   "outputs": [],
   "execution_count": 241
  },
  {
   "metadata": {
    "ExecuteTime": {
     "end_time": "2025-06-09T20:41:30.390897Z",
     "start_time": "2025-06-09T20:41:30.384421Z"
    }
   },
   "cell_type": "code",
   "source": [
    "lstm = LSTM_Own(n_letters, 128, n_letters)\n",
    "import torch.optim as optim\n",
    "criterion = nn.NLLLoss()\n",
    "learning_rate = 0.0005\n",
    "optimizer = optim.Adam(lstm.parameters(), lr=learning_rate)\n",
    "\n",
    "def train_lstm(category_tensor, input_tensor, target_tensor):\n",
    "    hidden = lstm.initHidden()\n",
    "    lstm.zero_grad()\n",
    "    output, hidden = lstm(category_tensor, input_tensor, hidden)\n",
    "    loss = criterion(output, target_tensor)\n",
    "\n",
    "    loss.backward()\n",
    "    optimizer.step()\n",
    "\n",
    "    return output, loss.item()"
   ],
   "outputs": [],
   "execution_count": 245
  },
  {
   "metadata": {
    "ExecuteTime": {
     "end_time": "2025-06-09T20:47:41.432977Z",
     "start_time": "2025-06-09T20:41:30.938075Z"
    }
   },
   "cell_type": "code",
   "source": [
    "n_iters = 100000\n",
    "print_every = 5000\n",
    "plot_every = 500\n",
    "all_losses = []\n",
    "total_loss = 0 # Reset every ``plot_every`` ``iters``\n",
    "\n",
    "start = time.time()\n",
    "\n",
    "for iter in range(1, n_iters + 1):\n",
    "    output, loss = train_lstm(*randomTrainingExample())\n",
    "    total_loss += loss\n",
    "\n",
    "    if iter % print_every == 0:\n",
    "        print('%s (%d %d%%) %.4f' % (timeSince(start), iter, iter / n_iters * 100, loss))\n",
    "\n",
    "    if iter % plot_every == 0:\n",
    "        all_losses.append(total_loss / plot_every)\n",
    "        total_loss = 0"
   ],
   "outputs": [
    {
     "name": "stdout",
     "output_type": "stream",
     "text": [
      "0m 19s (5000 5%) 2.4018\n",
      "0m 38s (10000 10%) 2.2420\n",
      "0m 56s (15000 15%) 2.3712\n",
      "1m 15s (20000 20%) 1.9618\n",
      "1m 33s (25000 25%) 1.5900\n",
      "1m 52s (30000 30%) 2.3640\n",
      "2m 10s (35000 35%) 1.7708\n",
      "2m 28s (40000 40%) 1.9300\n",
      "2m 47s (45000 45%) 1.5741\n",
      "3m 5s (50000 50%) 0.4616\n",
      "3m 24s (55000 55%) 2.1671\n",
      "3m 42s (60000 60%) 1.6274\n",
      "4m 0s (65000 65%) 1.0330\n",
      "4m 18s (70000 70%) 1.5958\n",
      "4m 37s (75000 75%) 2.2159\n",
      "4m 55s (80000 80%) 0.7429\n",
      "5m 13s (85000 85%) 1.6903\n",
      "5m 32s (90000 90%) 1.8449\n",
      "5m 50s (95000 95%) 1.9189\n",
      "6m 10s (100000 100%) 0.6330\n"
     ]
    }
   ],
   "execution_count": 246
  },
  {
   "metadata": {
    "ExecuteTime": {
     "end_time": "2025-06-09T20:50:13.577296Z",
     "start_time": "2025-06-09T20:50:13.484008Z"
    }
   },
   "cell_type": "code",
   "source": [
    "import matplotlib.pyplot as plt\n",
    "\n",
    "plt.figure()\n",
    "plt.plot(all_losses)"
   ],
   "outputs": [
    {
     "data": {
      "text/plain": [
       "[<matplotlib.lines.Line2D at 0x128132a30>]"
      ]
     },
     "execution_count": 247,
     "metadata": {},
     "output_type": "execute_result"
    },
    {
     "data": {
      "text/plain": [
       "<Figure size 640x480 with 1 Axes>"
      ],
      "image/png": "[encoded data removed]"
     },
     "metadata": {},
     "output_type": "display_data"
    }
   ],
   "execution_count": 247
  },
  {
   "metadata": {
    "ExecuteTime": {
     "end_time": "2025-06-09T20:51:14.960764Z",
     "start_time": "2025-06-09T20:51:14.950519Z"
    }
   },
   "cell_type": "code",
   "source": [
    "max_length = 100\n",
    "\n",
    "# Sample from a category and starting letter\n",
    "def sample(category, start_letter='A'):\n",
    "    with torch.no_grad():  # no need to track history in sampling\n",
    "        category_tensor = categoryTensor(category)\n",
    "        input = inputTensor(start_letter)\n",
    "        \n",
    "        hidden = lstm.initHidden()\n",
    "        output_name = start_letter\n",
    "        \n",
    "        # print(category_tensor.shape)\n",
    "        # print(input.shape)\n",
    "        # print(hidden.shape)\n",
    "        # print(output_name)\n",
    "\n",
    "        for i in range(max_length):\n",
    "            output, hidden = lstm(category_tensor, input, hidden)\n",
    "            #print(output.shape)\n",
    "            topv, topi = output.topk(1)\n",
    "            topi = topi[0][0]\n",
    "            if topi == n_letters - 1:\n",
    "                break\n",
    "            else:\n",
    "                letter = all_letters[topi]\n",
    "                output_name += letter\n",
    "            input = inputTensor(letter)\n",
    "\n",
    "        return output_name"
   ],
   "outputs": [],
   "execution_count": 251
  },
  {
   "metadata": {
    "ExecuteTime": {
     "end_time": "2025-06-09T20:51:15.605683Z",
     "start_time": "2025-06-09T20:51:15.594510Z"
    }
   },
   "cell_type": "code",
   "source": [
    "# Get multiple samples from one category and multiple starting letters\n",
    "def samples(category, start_letters='ABC'):\n",
    "    for start_letter in start_letters:\n",
    "        print(sample(category, start_letter))\n",
    "samples('Simulation')"
   ],
   "outputs": [
    {
     "name": "stdout",
     "output_type": "stream",
     "text": [
      "Armored Core \n",
      "Black Staff \n",
      "Catceman Battle of the Simulator\n"
     ]
    }
   ],
   "execution_count": 252
  },
  {
   "metadata": {},
   "cell_type": "markdown",
   "source": [
    "LSTM is better -> IF you compare the loss for LSTM and RNN \n",
    "\n"
   ]
  }
 ],
 "metadata": {
  "kernelspec": {
   "display_name": "Python 3 (ipykernel)",
   "language": "python",
   "name": "python3"
  },
  "language_info": {
   "codemirror_mode": {
    "name": "ipython",
    "version": 3
   },
   "file_extension": ".py",
   "mimetype": "text/x-python",
   "name": "python",
   "nbconvert_exporter": "python",
   "pygments_lexer": "ipython3",
   "version": "3.8.2"
  },
  "colab": {
   "name": "2-text-classifier.ipynb",
   "provenance": [],
   "include_colab_link": true
  }
 },
 "nbformat": 4,
 "nbformat_minor": 0
}
