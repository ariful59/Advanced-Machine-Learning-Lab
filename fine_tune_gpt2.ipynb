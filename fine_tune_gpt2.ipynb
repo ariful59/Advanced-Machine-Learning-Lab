{
 "cells": [
  {
   "metadata": {
    "ExecuteTime": {
     "end_time": "2025-06-11T07:57:57.944079Z",
     "start_time": "2025-06-11T07:57:55.405712Z"
    }
   },
   "cell_type": "code",
   "source": "pip install -U datasets huggingface_hub fsspec",
   "id": "ca66ff0c34030965",
   "outputs": [
    {
     "name": "stdout",
     "output_type": "stream",
     "text": [
      "Requirement already satisfied: datasets in /Users/mdarifulamin/PycharmProjects/machine learning by pytorch/.venv/lib/python3.9/site-packages (3.6.0)\r\n",
      "Requirement already satisfied: huggingface_hub in /Users/mdarifulamin/PycharmProjects/machine learning by pytorch/.venv/lib/python3.9/site-packages (0.32.5)\r\n",
      "Requirement already satisfied: fsspec in /Users/mdarifulamin/PycharmProjects/machine learning by pytorch/.venv/lib/python3.9/site-packages (2025.3.0)\r\n",
      "Collecting fsspec\r\n",
      "  Obtaining dependency information for fsspec from https://files.pythonhosted.org/packages/bb/61/78c7b3851add1481b048b5fdc29067397a1784e2910592bc81bb3f608635/fsspec-2025.5.1-py3-none-any.whl.metadata\r\n",
      "  Using cached fsspec-2025.5.1-py3-none-any.whl.metadata (11 kB)\r\n",
      "Requirement already satisfied: filelock in /Users/mdarifulamin/PycharmProjects/machine learning by pytorch/.venv/lib/python3.9/site-packages (from datasets) (3.17.0)\r\n",
      "Requirement already satisfied: numpy>=1.17 in /Users/mdarifulamin/PycharmProjects/machine learning by pytorch/.venv/lib/python3.9/site-packages (from datasets) (2.0.2)\r\n",
      "Requirement already satisfied: pyarrow>=15.0.0 in /Users/mdarifulamin/PycharmProjects/machine learning by pytorch/.venv/lib/python3.9/site-packages (from datasets) (20.0.0)\r\n",
      "Requirement already satisfied: dill<0.3.9,>=0.3.0 in /Users/mdarifulamin/PycharmProjects/machine learning by pytorch/.venv/lib/python3.9/site-packages (from datasets) (0.3.8)\r\n",
      "Requirement already satisfied: pandas in /Users/mdarifulamin/PycharmProjects/machine learning by pytorch/.venv/lib/python3.9/site-packages (from datasets) (2.2.3)\r\n",
      "Requirement already satisfied: requests>=2.32.2 in /Users/mdarifulamin/PycharmProjects/machine learning by pytorch/.venv/lib/python3.9/site-packages (from datasets) (2.32.3)\r\n",
      "Requirement already satisfied: tqdm>=4.66.3 in /Users/mdarifulamin/PycharmProjects/machine learning by pytorch/.venv/lib/python3.9/site-packages (from datasets) (4.67.1)\r\n",
      "Requirement already satisfied: xxhash in /Users/mdarifulamin/PycharmProjects/machine learning by pytorch/.venv/lib/python3.9/site-packages (from datasets) (3.5.0)\r\n",
      "Requirement already satisfied: multiprocess<0.70.17 in /Users/mdarifulamin/PycharmProjects/machine learning by pytorch/.venv/lib/python3.9/site-packages (from datasets) (0.70.16)\r\n",
      "Requirement already satisfied: packaging in /Users/mdarifulamin/PycharmProjects/machine learning by pytorch/.venv/lib/python3.9/site-packages (from datasets) (24.2)\r\n",
      "Requirement already satisfied: pyyaml>=5.1 in /Users/mdarifulamin/PycharmProjects/machine learning by pytorch/.venv/lib/python3.9/site-packages (from datasets) (6.0.2)\r\n",
      "Requirement already satisfied: typing-extensions>=3.7.4.3 in /Users/mdarifulamin/PycharmProjects/machine learning by pytorch/.venv/lib/python3.9/site-packages (from huggingface_hub) (4.12.2)\r\n",
      "Requirement already satisfied: hf-xet<2.0.0,>=1.1.2 in /Users/mdarifulamin/PycharmProjects/machine learning by pytorch/.venv/lib/python3.9/site-packages (from huggingface_hub) (1.1.3)\r\n",
      "Requirement already satisfied: aiohttp!=4.0.0a0,!=4.0.0a1 in /Users/mdarifulamin/PycharmProjects/machine learning by pytorch/.venv/lib/python3.9/site-packages (from fsspec) (3.12.12)\r\n",
      "Requirement already satisfied: charset-normalizer<4,>=2 in /Users/mdarifulamin/PycharmProjects/machine learning by pytorch/.venv/lib/python3.9/site-packages (from requests>=2.32.2->datasets) (3.4.1)\r\n",
      "Requirement already satisfied: idna<4,>=2.5 in /Users/mdarifulamin/PycharmProjects/machine learning by pytorch/.venv/lib/python3.9/site-packages (from requests>=2.32.2->datasets) (3.10)\r\n",
      "Requirement already satisfied: urllib3<3,>=1.21.1 in /Users/mdarifulamin/PycharmProjects/machine learning by pytorch/.venv/lib/python3.9/site-packages (from requests>=2.32.2->datasets) (2.3.0)\r\n",
      "Requirement already satisfied: certifi>=2017.4.17 in /Users/mdarifulamin/PycharmProjects/machine learning by pytorch/.venv/lib/python3.9/site-packages (from requests>=2.32.2->datasets) (2025.1.31)\r\n",
      "Requirement already satisfied: python-dateutil>=2.8.2 in /Users/mdarifulamin/PycharmProjects/machine learning by pytorch/.venv/lib/python3.9/site-packages (from pandas->datasets) (2.9.0.post0)\r\n",
      "Requirement already satisfied: pytz>=2020.1 in /Users/mdarifulamin/PycharmProjects/machine learning by pytorch/.venv/lib/python3.9/site-packages (from pandas->datasets) (2025.2)\r\n",
      "Requirement already satisfied: tzdata>=2022.7 in /Users/mdarifulamin/PycharmProjects/machine learning by pytorch/.venv/lib/python3.9/site-packages (from pandas->datasets) (2025.2)\r\n",
      "Requirement already satisfied: aiohappyeyeballs>=2.5.0 in /Users/mdarifulamin/PycharmProjects/machine learning by pytorch/.venv/lib/python3.9/site-packages (from aiohttp!=4.0.0a0,!=4.0.0a1->fsspec) (2.6.1)\r\n",
      "Requirement already satisfied: aiosignal>=1.1.2 in /Users/mdarifulamin/PycharmProjects/machine learning by pytorch/.venv/lib/python3.9/site-packages (from aiohttp!=4.0.0a0,!=4.0.0a1->fsspec) (1.3.2)\r\n",
      "Requirement already satisfied: async-timeout<6.0,>=4.0 in /Users/mdarifulamin/PycharmProjects/machine learning by pytorch/.venv/lib/python3.9/site-packages (from aiohttp!=4.0.0a0,!=4.0.0a1->fsspec) (5.0.1)\r\n",
      "Requirement already satisfied: attrs>=17.3.0 in /Users/mdarifulamin/PycharmProjects/machine learning by pytorch/.venv/lib/python3.9/site-packages (from aiohttp!=4.0.0a0,!=4.0.0a1->fsspec) (25.3.0)\r\n",
      "Requirement already satisfied: frozenlist>=1.1.1 in /Users/mdarifulamin/PycharmProjects/machine learning by pytorch/.venv/lib/python3.9/site-packages (from aiohttp!=4.0.0a0,!=4.0.0a1->fsspec) (1.7.0)\r\n",
      "Requirement already satisfied: multidict<7.0,>=4.5 in /Users/mdarifulamin/PycharmProjects/machine learning by pytorch/.venv/lib/python3.9/site-packages (from aiohttp!=4.0.0a0,!=4.0.0a1->fsspec) (6.4.4)\r\n",
      "Requirement already satisfied: propcache>=0.2.0 in /Users/mdarifulamin/PycharmProjects/machine learning by pytorch/.venv/lib/python3.9/site-packages (from aiohttp!=4.0.0a0,!=4.0.0a1->fsspec) (0.3.2)\r\n",
      "Requirement already satisfied: yarl<2.0,>=1.17.0 in /Users/mdarifulamin/PycharmProjects/machine learning by pytorch/.venv/lib/python3.9/site-packages (from aiohttp!=4.0.0a0,!=4.0.0a1->fsspec) (1.20.1)\r\n",
      "Requirement already satisfied: six>=1.5 in /Users/mdarifulamin/PycharmProjects/machine learning by pytorch/.venv/lib/python3.9/site-packages (from python-dateutil>=2.8.2->pandas->datasets) (1.17.0)\r\n",
      "\r\n",
      "\u001B[1m[\u001B[0m\u001B[34;49mnotice\u001B[0m\u001B[1;39;49m]\u001B[0m\u001B[39;49m A new release of pip is available: \u001B[0m\u001B[31;49m23.2.1\u001B[0m\u001B[39;49m -> \u001B[0m\u001B[32;49m25.1.1\u001B[0m\r\n",
      "\u001B[1m[\u001B[0m\u001B[34;49mnotice\u001B[0m\u001B[1;39;49m]\u001B[0m\u001B[39;49m To update, run: \u001B[0m\u001B[32;49mpython -m pip install --upgrade pip\u001B[0m\r\n",
      "Note: you may need to restart the kernel to use updated packages.\n"
     ]
    }
   ],
   "execution_count": 2
  },
  {
   "metadata": {},
   "cell_type": "markdown",
   "source": "",
   "id": "93812fd25a7e6a69"
  },
  {
   "metadata": {
    "ExecuteTime": {
     "end_time": "2025-06-11T07:57:57.959568Z",
     "start_time": "2025-06-11T07:57:57.955940Z"
    }
   },
   "cell_type": "code",
   "source": [
    "import datasets, huggingface_hub, fsspec\n",
    "print(datasets.__version__, huggingface_hub.__version__, fsspec.__version__)"
   ],
   "id": "54ee3c3af7304e0d",
   "outputs": [
    {
     "name": "stdout",
     "output_type": "stream",
     "text": [
      "3.6.0 0.32.5 2025.3.0\n"
     ]
    }
   ],
   "execution_count": 3
  },
  {
   "cell_type": "code",
   "id": "initial_id",
   "metadata": {
    "collapsed": true,
    "ExecuteTime": {
     "end_time": "2025-06-11T13:01:32.134468Z",
     "start_time": "2025-06-11T13:01:25.689418Z"
    }
   },
   "source": [
    "from datasets import load_dataset\n",
    "from transformers import (GPT2Tokenizer, GPT2ForSequenceClassification,\n",
    "                          TrainingArguments, Trainer)\n",
    "\n",
    "# 1. Load a labeled tweet dataset\n",
    "dataset = load_dataset(\"mteb/tweet_sentiment_extraction\")\n",
    "\n",
    "# 2. Tokenize\n",
    "tokenizer = GPT2Tokenizer.from_pretrained(\"gpt2\")\n",
    "tokenizer.pad_token = tokenizer.eos_token\n",
    "def preprocess(ex):\n",
    "    return tokenizer(ex[\"text\"], truncation=True, padding=\"max_length\", max_length=128)\n",
    "tokenized = dataset.map(preprocess, batched=True)\n",
    "print(tokenized)\n",
    "print(tokenized['train'][0])\n",
    "\n",
    "# Use a small subset for faster iteration\n",
    "train = tokenized[\"train\"].shuffle(seed=42).select(range(2000))\n",
    "test = tokenized[\"test\"].shuffle(seed=42).select(range(1000))\n",
    "print(train.features)"
   ],
   "outputs": [
    {
     "name": "stdout",
     "output_type": "stream",
     "text": [
      "DatasetDict({\n",
      "    train: Dataset({\n",
      "        features: ['text', 'label', 'input_ids', 'attention_mask'],\n",
      "        num_rows: 27481\n",
      "    })\n",
      "    test: Dataset({\n",
      "        features: ['text', 'label', 'input_ids', 'attention_mask'],\n",
      "        num_rows: 3534\n",
      "    })\n",
      "})\n",
      "{'text': ' I`d have responded, if I were going', 'label': 1, 'input_ids': [314, 63, 67, 423, 7082, 11, 611, 314, 547, 1016, 50256, 50256, 50256, 50256, 50256, 50256, 50256, 50256, 50256, 50256, 50256, 50256, 50256, 50256, 50256, 50256, 50256, 50256, 50256, 50256, 50256, 50256, 50256, 50256, 50256, 50256, 50256, 50256, 50256, 50256, 50256, 50256, 50256, 50256, 50256, 50256, 50256, 50256, 50256, 50256, 50256, 50256, 50256, 50256, 50256, 50256, 50256, 50256, 50256, 50256, 50256, 50256, 50256, 50256, 50256, 50256, 50256, 50256, 50256, 50256, 50256, 50256, 50256, 50256, 50256, 50256, 50256, 50256, 50256, 50256, 50256, 50256, 50256, 50256, 50256, 50256, 50256, 50256, 50256, 50256, 50256, 50256, 50256, 50256, 50256, 50256, 50256, 50256, 50256, 50256, 50256, 50256, 50256, 50256, 50256, 50256, 50256, 50256, 50256, 50256, 50256, 50256, 50256, 50256, 50256, 50256, 50256, 50256, 50256, 50256, 50256, 50256, 50256, 50256, 50256, 50256, 50256, 50256], 'attention_mask': [1, 1, 1, 1, 1, 1, 1, 1, 1, 1, 0, 0, 0, 0, 0, 0, 0, 0, 0, 0, 0, 0, 0, 0, 0, 0, 0, 0, 0, 0, 0, 0, 0, 0, 0, 0, 0, 0, 0, 0, 0, 0, 0, 0, 0, 0, 0, 0, 0, 0, 0, 0, 0, 0, 0, 0, 0, 0, 0, 0, 0, 0, 0, 0, 0, 0, 0, 0, 0, 0, 0, 0, 0, 0, 0, 0, 0, 0, 0, 0, 0, 0, 0, 0, 0, 0, 0, 0, 0, 0, 0, 0, 0, 0, 0, 0, 0, 0, 0, 0, 0, 0, 0, 0, 0, 0, 0, 0, 0, 0, 0, 0, 0, 0, 0, 0, 0, 0, 0, 0, 0, 0, 0, 0, 0, 0, 0, 0]}\n",
      "{'text': Value(dtype='string', id=None), 'label': Value(dtype='int64', id=None), 'input_ids': Sequence(feature=Value(dtype='int32', id=None), length=-1, id=None), 'attention_mask': Sequence(feature=Value(dtype='int8', id=None), length=-1, id=None)}\n"
     ]
    }
   ],
   "execution_count": 22
  },
  {
   "metadata": {},
   "cell_type": "code",
   "outputs": [],
   "execution_count": null,
   "source": "",
   "id": "b7a60c4f99d91623"
  },
  {
   "metadata": {},
   "cell_type": "markdown",
   "source": "",
   "id": "c96b246e074ffb3f"
  },
  {
   "metadata": {
    "ExecuteTime": {
     "end_time": "2025-06-11T07:58:04.713466Z",
     "start_time": "2025-06-11T07:58:04.353642Z"
    }
   },
   "cell_type": "code",
   "source": [
    "# 3. Load pretrained GPT-2 for classification\n",
    "model = GPT2ForSequenceClassification.from_pretrained(\"gpt2\", num_labels=3)\n"
   ],
   "id": "819014bfeccdc0fa",
   "outputs": [
    {
     "name": "stderr",
     "output_type": "stream",
     "text": [
      "Some weights of GPT2ForSequenceClassification were not initialized from the model checkpoint at gpt2 and are newly initialized: ['score.weight']\n",
      "You should probably TRAIN this model on a down-stream task to be able to use it for predictions and inference.\n"
     ]
    }
   ],
   "execution_count": 5
  },
  {
   "metadata": {
    "ExecuteTime": {
     "end_time": "2025-06-11T07:58:05.822021Z",
     "start_time": "2025-06-11T07:58:04.786049Z"
    }
   },
   "cell_type": "code",
   "source": [
    "import evaluate\n",
    "import numpy as np\n",
    "\n",
    "metric = evaluate.load(\"accuracy\")\n",
    "\n",
    "def compute_metrics(eval_pred):\n",
    "   logits, labels = eval_pred\n",
    "   predictions = np.argmax(logits, axis=-1)\n",
    "   return metric.compute(predictions=predictions, references=labels)"
   ],
   "id": "633e4de46ec9074e",
   "outputs": [],
   "execution_count": 6
  },
  {
   "metadata": {
    "ExecuteTime": {
     "end_time": "2025-06-11T07:58:07.499020Z",
     "start_time": "2025-06-11T07:58:05.833854Z"
    }
   },
   "cell_type": "code",
   "source": "pip install 'accelerate>=0.26.0'",
   "id": "b3cadb184f770e20",
   "outputs": [
    {
     "name": "stdout",
     "output_type": "stream",
     "text": [
      "Requirement already satisfied: accelerate>=0.26.0 in /Users/mdarifulamin/PycharmProjects/machine learning by pytorch/.venv/lib/python3.9/site-packages (1.7.0)\r\n",
      "Requirement already satisfied: numpy<3.0.0,>=1.17 in /Users/mdarifulamin/PycharmProjects/machine learning by pytorch/.venv/lib/python3.9/site-packages (from accelerate>=0.26.0) (2.0.2)\r\n",
      "Requirement already satisfied: packaging>=20.0 in /Users/mdarifulamin/PycharmProjects/machine learning by pytorch/.venv/lib/python3.9/site-packages (from accelerate>=0.26.0) (24.2)\r\n",
      "Requirement already satisfied: psutil in /Users/mdarifulamin/PycharmProjects/machine learning by pytorch/.venv/lib/python3.9/site-packages (from accelerate>=0.26.0) (7.0.0)\r\n",
      "Requirement already satisfied: pyyaml in /Users/mdarifulamin/PycharmProjects/machine learning by pytorch/.venv/lib/python3.9/site-packages (from accelerate>=0.26.0) (6.0.2)\r\n",
      "Requirement already satisfied: torch>=2.0.0 in /Users/mdarifulamin/PycharmProjects/machine learning by pytorch/.venv/lib/python3.9/site-packages (from accelerate>=0.26.0) (2.6.0)\r\n",
      "Requirement already satisfied: huggingface-hub>=0.21.0 in /Users/mdarifulamin/PycharmProjects/machine learning by pytorch/.venv/lib/python3.9/site-packages (from accelerate>=0.26.0) (0.32.5)\r\n",
      "Requirement already satisfied: safetensors>=0.4.3 in /Users/mdarifulamin/PycharmProjects/machine learning by pytorch/.venv/lib/python3.9/site-packages (from accelerate>=0.26.0) (0.5.3)\r\n",
      "Requirement already satisfied: filelock in /Users/mdarifulamin/PycharmProjects/machine learning by pytorch/.venv/lib/python3.9/site-packages (from huggingface-hub>=0.21.0->accelerate>=0.26.0) (3.17.0)\r\n",
      "Requirement already satisfied: fsspec>=2023.5.0 in /Users/mdarifulamin/PycharmProjects/machine learning by pytorch/.venv/lib/python3.9/site-packages (from huggingface-hub>=0.21.0->accelerate>=0.26.0) (2025.3.0)\r\n",
      "Requirement already satisfied: requests in /Users/mdarifulamin/PycharmProjects/machine learning by pytorch/.venv/lib/python3.9/site-packages (from huggingface-hub>=0.21.0->accelerate>=0.26.0) (2.32.3)\r\n",
      "Requirement already satisfied: tqdm>=4.42.1 in /Users/mdarifulamin/PycharmProjects/machine learning by pytorch/.venv/lib/python3.9/site-packages (from huggingface-hub>=0.21.0->accelerate>=0.26.0) (4.67.1)\r\n",
      "Requirement already satisfied: typing-extensions>=3.7.4.3 in /Users/mdarifulamin/PycharmProjects/machine learning by pytorch/.venv/lib/python3.9/site-packages (from huggingface-hub>=0.21.0->accelerate>=0.26.0) (4.12.2)\r\n",
      "Requirement already satisfied: hf-xet<2.0.0,>=1.1.2 in /Users/mdarifulamin/PycharmProjects/machine learning by pytorch/.venv/lib/python3.9/site-packages (from huggingface-hub>=0.21.0->accelerate>=0.26.0) (1.1.3)\r\n",
      "Requirement already satisfied: networkx in /Users/mdarifulamin/PycharmProjects/machine learning by pytorch/.venv/lib/python3.9/site-packages (from torch>=2.0.0->accelerate>=0.26.0) (3.2.1)\r\n",
      "Requirement already satisfied: jinja2 in /Users/mdarifulamin/PycharmProjects/machine learning by pytorch/.venv/lib/python3.9/site-packages (from torch>=2.0.0->accelerate>=0.26.0) (3.1.5)\r\n",
      "Requirement already satisfied: sympy==1.13.1 in /Users/mdarifulamin/PycharmProjects/machine learning by pytorch/.venv/lib/python3.9/site-packages (from torch>=2.0.0->accelerate>=0.26.0) (1.13.1)\r\n",
      "Requirement already satisfied: mpmath<1.4,>=1.1.0 in /Users/mdarifulamin/PycharmProjects/machine learning by pytorch/.venv/lib/python3.9/site-packages (from sympy==1.13.1->torch>=2.0.0->accelerate>=0.26.0) (1.3.0)\r\n",
      "Requirement already satisfied: MarkupSafe>=2.0 in /Users/mdarifulamin/PycharmProjects/machine learning by pytorch/.venv/lib/python3.9/site-packages (from jinja2->torch>=2.0.0->accelerate>=0.26.0) (3.0.2)\r\n",
      "Requirement already satisfied: charset-normalizer<4,>=2 in /Users/mdarifulamin/PycharmProjects/machine learning by pytorch/.venv/lib/python3.9/site-packages (from requests->huggingface-hub>=0.21.0->accelerate>=0.26.0) (3.4.1)\r\n",
      "Requirement already satisfied: idna<4,>=2.5 in /Users/mdarifulamin/PycharmProjects/machine learning by pytorch/.venv/lib/python3.9/site-packages (from requests->huggingface-hub>=0.21.0->accelerate>=0.26.0) (3.10)\r\n",
      "Requirement already satisfied: urllib3<3,>=1.21.1 in /Users/mdarifulamin/PycharmProjects/machine learning by pytorch/.venv/lib/python3.9/site-packages (from requests->huggingface-hub>=0.21.0->accelerate>=0.26.0) (2.3.0)\r\n",
      "Requirement already satisfied: certifi>=2017.4.17 in /Users/mdarifulamin/PycharmProjects/machine learning by pytorch/.venv/lib/python3.9/site-packages (from requests->huggingface-hub>=0.21.0->accelerate>=0.26.0) (2025.1.31)\r\n",
      "\r\n",
      "\u001B[1m[\u001B[0m\u001B[34;49mnotice\u001B[0m\u001B[1;39;49m]\u001B[0m\u001B[39;49m A new release of pip is available: \u001B[0m\u001B[31;49m23.2.1\u001B[0m\u001B[39;49m -> \u001B[0m\u001B[32;49m25.1.1\u001B[0m\r\n",
      "\u001B[1m[\u001B[0m\u001B[34;49mnotice\u001B[0m\u001B[1;39;49m]\u001B[0m\u001B[39;49m To update, run: \u001B[0m\u001B[32;49mpython -m pip install --upgrade pip\u001B[0m\r\n",
      "Note: you may need to restart the kernel to use updated packages.\n"
     ]
    }
   ],
   "execution_count": 7
  },
  {
   "metadata": {
    "ExecuteTime": {
     "end_time": "2025-06-11T08:17:01.923788Z",
     "start_time": "2025-06-11T07:58:07.508663Z"
    }
   },
   "cell_type": "code",
   "source": [
    "from transformers import TrainingArguments, Trainer\n",
    "\n",
    "training_args = TrainingArguments(\n",
    "   output_dir=\"test_trainer\",\n",
    "   #evaluation_strategy=\"epoch\",\n",
    "   per_device_train_batch_size=1,\n",
    "   per_device_eval_batch_size=1,\n",
    "   gradient_accumulation_steps=4\n",
    "   )\n",
    "\n",
    "\n",
    "trainer = Trainer(\n",
    "   model=model,\n",
    "   args=training_args,\n",
    "   train_dataset=train,\n",
    "   eval_dataset=test,\n",
    "   compute_metrics=compute_metrics,\n",
    ")\n",
    "\n",
    "trainer.train()"
   ],
   "id": "8a209c6d34965b33",
   "outputs": [
    {
     "data": {
      "text/plain": [
       "<IPython.core.display.HTML object>"
      ],
      "text/html": [
       "\n",
       "    <div>\n",
       "      \n",
       "      <progress value='1500' max='1500' style='width:300px; height:20px; vertical-align: middle;'></progress>\n",
       "      [1500/1500 18:46, Epoch 3/3]\n",
       "    </div>\n",
       "    <table border=\"1\" class=\"dataframe\">\n",
       "  <thead>\n",
       " <tr style=\"text-align: left;\">\n",
       "      <th>Step</th>\n",
       "      <th>Training Loss</th>\n",
       "    </tr>\n",
       "  </thead>\n",
       "  <tbody>\n",
       "    <tr>\n",
       "      <td>500</td>\n",
       "      <td>1.127500</td>\n",
       "    </tr>\n",
       "    <tr>\n",
       "      <td>1000</td>\n",
       "      <td>0.775100</td>\n",
       "    </tr>\n",
       "    <tr>\n",
       "      <td>1500</td>\n",
       "      <td>0.613200</td>\n",
       "    </tr>\n",
       "  </tbody>\n",
       "</table><p>"
      ]
     },
     "metadata": {},
     "output_type": "display_data"
    },
    {
     "data": {
      "text/plain": [
       "TrainOutput(global_step=1500, training_loss=0.8386027425130208, metrics={'train_runtime': 1133.217, 'train_samples_per_second': 5.295, 'train_steps_per_second': 1.324, 'total_flos': 391948664832000.0, 'train_loss': 0.8386027425130208, 'epoch': 3.0})"
      ]
     },
     "execution_count": 8,
     "metadata": {},
     "output_type": "execute_result"
    }
   ],
   "execution_count": 8
  },
  {
   "metadata": {
    "ExecuteTime": {
     "end_time": "2025-06-11T08:18:02.879635Z",
     "start_time": "2025-06-11T08:17:26.701283Z"
    }
   },
   "cell_type": "code",
   "source": "trainer.evaluate()\n",
   "id": "87c2a56fa2295239",
   "outputs": [
    {
     "data": {
      "text/plain": [
       "<IPython.core.display.HTML object>"
      ],
      "text/html": [
       "\n",
       "    <div>\n",
       "      \n",
       "      <progress value='1000' max='1000' style='width:300px; height:20px; vertical-align: middle;'></progress>\n",
       "      [1000/1000 00:35]\n",
       "    </div>\n",
       "    "
      ]
     },
     "metadata": {},
     "output_type": "display_data"
    },
    {
     "data": {
      "text/plain": [
       "{'eval_loss': 0.824856162071228,\n",
       " 'eval_accuracy': 0.753,\n",
       " 'eval_runtime': 36.1491,\n",
       " 'eval_samples_per_second': 27.663,\n",
       " 'eval_steps_per_second': 27.663,\n",
       " 'epoch': 3.0}"
      ]
     },
     "execution_count": 10,
     "metadata": {},
     "output_type": "execute_result"
    }
   ],
   "execution_count": 10
  },
  {
   "metadata": {
    "ExecuteTime": {
     "end_time": "2025-06-11T12:35:12.542616Z",
     "start_time": "2025-06-11T12:35:11.977797Z"
    }
   },
   "cell_type": "code",
   "source": [
    "import torch\n",
    "sample = \"I don't like this new phone! but there are things which I really liked\"\n",
    "inputs = tokenizer(sample, return_tensors=\"pt\").to(model.device)\n",
    "model.eval()\n",
    "with torch.no_grad():\n",
    "    logits = model(**inputs).logits\n",
    "    print(logits.shape)\n",
    "pred = logits.argmax(dim=-1).item()\n",
    "label_map = {0: \"Negative\", 1: \"Neutral\", 2: \"Positive\"}\n",
    "print(\"Sample prediction:\", label_map[pred])"
   ],
   "id": "1804b927391c4a7f",
   "outputs": [
    {
     "name": "stdout",
     "output_type": "stream",
     "text": [
      "torch.Size([1, 3])\n",
      "Sample prediction: Negative\n"
     ]
    }
   ],
   "execution_count": 21
  }
 ],
 "metadata": {
  "kernelspec": {
   "display_name": "Python 3",
   "language": "python",
   "name": "python3"
  },
  "language_info": {
   "codemirror_mode": {
    "name": "ipython",
    "version": 2
   },
   "file_extension": ".py",
   "mimetype": "text/x-python",
   "name": "python",
   "nbconvert_exporter": "python",
   "pygments_lexer": "ipython2",
   "version": "2.7.6"
  }
 },
 "nbformat": 4,
 "nbformat_minor": 5
}
