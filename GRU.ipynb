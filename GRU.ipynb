{
 "cells": [
  {
   "cell_type": "markdown",
   "metadata": {
    "id": "XNRvVnoPyugt"
   },
   "source": [
    "## Language Models Lab ##\n",
    "\n",
    "Through these notebooks, we will explore different important and interesting techniques, approaches, and uses of language models to address mainly Natural Language Processing tasks.\n",
    "\n",
    "We will explore the following:\n",
    "\n",
    "- Creating Recurrent Neural Networks (RNN) and Long short-term memory (LSTM) networks\n",
    "- Word2Vec\n",
    "    - Continuous Bag-Of-Words (CBOW)\n",
    "- Using RNNS in practice!\n",
    "    - Text classification\n",
    "- Seq2Seq\n",
    "    - Using Torchtext\n",
    "    - Machine Translation\n",
    "- Using Pre-trained models!"
   ]
  },
  {
   "cell_type": "markdown",
   "metadata": {
    "id": "WaRniyCuyugw"
   },
   "source": [
    "-------------\n",
    "## Basic testing of RNN, LSTM, and GRU ##"
   ]
  },
  {
   "cell_type": "code",
   "metadata": {
    "id": "o8f22Tedyugw",
    "ExecuteTime": {
     "end_time": "2025-06-09T21:13:06.990543Z",
     "start_time": "2025-06-09T21:13:06.977734Z"
    }
   },
   "source": [
    "import torch\n",
    "import torch.nn as nn\n",
    "import torch.nn.functional as F\n",
    "import torch.optim as optim"
   ],
   "outputs": [],
   "execution_count": 42
  },
  {
   "cell_type": "code",
   "metadata": {
    "id": "FLqo9qSRyugx",
    "outputId": "0fb63ab1-0339-4fd2-be11-af8b732bb894",
    "ExecuteTime": {
     "end_time": "2025-06-09T21:13:07.022639Z",
     "start_time": "2025-06-09T21:13:07.016914Z"
    }
   },
   "source": [
    "def prepare_sequence(seq, to_ix):\n",
    "    idxs = [to_ix[w] for w in seq]\n",
    "    return torch.tensor(idxs, dtype=torch.long)\n",
    "\n",
    "# What will happen here?\n",
    "training_data = [\n",
    "    # Tags are: DET - determiner; NN - noun; V - verb\n",
    "    # For example, the word \"The\" is a determiner\n",
    "    (\"The dog ate the apple\".split(), [\"DET\", \"NN\", \"V\", \"DET\", \"NN\"]),\n",
    "    (\"Everybody read that book\".split(), [\"NN\", \"V\", \"DET\", \"NN\"]),\n",
    "    (\"Everybody does machine learning nowadays\".split(), [\"NN\", \"V\", \"NN\", \"NN\", \"ADV\", ])\n",
    "]\n",
    "word_to_ix = {}\n",
    "# For each words-list (sentence) and tags-list in each tuple of training_data\n",
    "for sent, tags in training_data:\n",
    "    for word in sent:\n",
    "        if word not in word_to_ix:  # word has not been assigned an index yet\n",
    "            word_to_ix[word] = len(word_to_ix)  # Assign each word with a unique index\n",
    "            \n",
    "print(word_to_ix)\n",
    "tag_to_ix = {\"DET\": 0, \"NN\": 1, \"V\": 2, \"ADV\": 3}  # Assign each tag with a unique index"
   ],
   "outputs": [
    {
     "name": "stdout",
     "output_type": "stream",
     "text": [
      "{'The': 0, 'dog': 1, 'ate': 2, 'the': 3, 'apple': 4, 'Everybody': 5, 'read': 6, 'that': 7, 'book': 8, 'does': 9, 'machine': 10, 'learning': 11, 'nowadays': 12}\n"
     ]
    }
   ],
   "execution_count": 43
  },
  {
   "cell_type": "code",
   "metadata": {
    "id": "D4n1mB70yugx",
    "ExecuteTime": {
     "end_time": "2025-06-09T21:13:07.035786Z",
     "start_time": "2025-06-09T21:13:07.033847Z"
    }
   },
   "source": [
    "EMBEDDING_DIM = 6\n",
    "HIDDEN_DIM = 12\n",
    "VOCAB_SIZE = len(word_to_ix)\n",
    "NUM_CLASSES = len(tag_to_ix)"
   ],
   "outputs": [],
   "execution_count": 44
  },
  {
   "cell_type": "code",
   "metadata": {
    "id": "_e36GGU4yugy",
    "ExecuteTime": {
     "end_time": "2025-06-09T21:13:07.067964Z",
     "start_time": "2025-06-09T21:13:07.061916Z"
    }
   },
   "source": [
    "def train(model, optimizer, criterion, epochs):\n",
    "    epoch_loss = []\n",
    "    for epoch in range(epochs):  # again, normally you would NOT do 300 epochs, it is toy data\n",
    "        final_loss = 0\n",
    "        for sentence, tags in training_data:\n",
    "            \n",
    "            model.zero_grad()\n",
    "\n",
    "            # get inputs and targets ready for the network!\n",
    "            sentence_in = prepare_sequence(sentence, word_to_ix)\n",
    "            targets = prepare_sequence(tags, tag_to_ix)\n",
    "\n",
    "            # get the tag scores\n",
    "            tag_scores = model(sentence_in)\n",
    "            \n",
    "            loss = criterion(tag_scores, targets)\n",
    "            optimizer.zero_grad()\n",
    "            loss.backward()\n",
    "            optimizer.step()\n",
    "            final_loss += loss.item()\n",
    "        epoch_loss.append(final_loss)\n",
    "    \n",
    "    return epoch_loss\n"
   ],
   "outputs": [],
   "execution_count": 45
  },
  {
   "cell_type": "code",
   "metadata": {
    "id": "8_lm3d_6yugy",
    "ExecuteTime": {
     "end_time": "2025-06-09T21:13:07.098562Z",
     "start_time": "2025-06-09T21:13:07.091456Z"
    }
   },
   "source": [
    "def evaluate(model, test_sequence):\n",
    "    with torch.no_grad():\n",
    "        inputs = prepare_sequence(training_data[test_sequence][0], word_to_ix)\n",
    "        tag_scores = model(inputs)\n",
    "        \n",
    "        outputs = []\n",
    "        \n",
    "        print(tag_to_ix)\n",
    "        print(training_data[test_sequence][0])\n",
    "        print(training_data[test_sequence][1])\n",
    "        \n",
    "        for tag_score in tag_scores:\n",
    "            outputs.append(tag_score.topk(1).indices.item())\n",
    "            \n",
    "        print(outputs)\n",
    "        print(\"--------------\")"
   ],
   "outputs": [],
   "execution_count": 46
  },
  {
   "cell_type": "markdown",
   "metadata": {
    "id": "tx9kUT6Kyugz"
   },
   "source": [
    "### Recurrent Neural Networks (RNN) ###"
   ]
  },
  {
   "cell_type": "code",
   "metadata": {
    "id": "eq9PTawyyugz",
    "ExecuteTime": {
     "end_time": "2025-06-09T21:13:07.117658Z",
     "start_time": "2025-06-09T21:13:07.114018Z"
    }
   },
   "source": [
    "class RNNTagger(nn.Module):\n",
    "\n",
    "    def __init__(self, embedding_dim, hidden_dim, vocab_size, tagset_size):\n",
    "        super(RNNTagger, self).__init__()\n",
    "        self.hidden_dim = hidden_dim\n",
    "\n",
    "        self.word_embeddings = nn.Embedding(vocab_size, embedding_dim)\n",
    "\n",
    "        # The RNN takes word embeddings as inputs, and outputs hidden states and output\n",
    "        self.rnn = nn.RNN(embedding_dim, hidden_dim)\n",
    "\n",
    "        # The linear layer that maps from hidden state space to tag space\n",
    "        self.hidden2tag = nn.Linear(hidden_dim, tagset_size)\n",
    "\n",
    "    def forward(self, sentence):\n",
    "        \n",
    "        embeds = self.word_embeddings(sentence)\n",
    "        rnn_out, _ = self.rnn(embeds.view(len(sentence), 1, -1)) #The module is expecting [sentence_length, batch_size, embedding_dim]\n",
    "        \n",
    "        # in this case, rnn_out.view(len(sentence), -1) is the same as doing what function?\n",
    "        tag_space = self.hidden2tag(rnn_out.view(len(sentence), -1))\n",
    "        \n",
    "        tag_scores = F.log_softmax(tag_space, dim=1)\n",
    "        return tag_scores"
   ],
   "outputs": [],
   "execution_count": 47
  },
  {
   "cell_type": "code",
   "metadata": {
    "id": "XKSA-aUgyugz",
    "outputId": "2cd504c0-22c5-4dfa-800c-43ff6fb25631",
    "ExecuteTime": {
     "end_time": "2025-06-09T21:13:07.286643Z",
     "start_time": "2025-06-09T21:13:07.136263Z"
    }
   },
   "source": [
    "model = RNNTagger(EMBEDDING_DIM, HIDDEN_DIM, len(word_to_ix), len(tag_to_ix))\n",
    "loss_function = nn.NLLLoss()\n",
    "optimizer = optim.SGD(model.parameters(), lr=0.1)\n",
    "losses = train(model, optimizer, loss_function, 100)\n",
    "print(losses)\n",
    "evaluate(model, 0)\n",
    "evaluate(model, 1)\n",
    "evaluate(model, 2)"
   ],
   "outputs": [
    {
     "name": "stdout",
     "output_type": "stream",
     "text": [
      "[4.371445059776306, 3.886128544807434, 3.5148985385894775, 3.22461599111557, 2.98644357919693, 2.7783373594284058, 2.587253510951996, 2.407369375228882, 2.2366693019866943, 2.074359506368637, 1.9197168052196503, 1.7719204127788544, 1.6303001046180725, 1.4946652054786682, 1.3655259013175964, 1.2440376430749893, 1.1315909326076508, 1.0292468965053558, 0.9373834431171417, 0.8557039797306061, 0.7834593057632446, 0.719685323536396, 0.6633712351322174, 0.6135533004999161, 0.5693598762154579, 0.5300257503986359, 0.4948904365301132, 0.4633893370628357, 0.4350424036383629, 0.4094421863555908, 0.3862423822283745, 0.36514855176210403, 0.3459091857075691, 0.3283092975616455, 0.3121637627482414, 0.29731322824954987, 0.28361961990594864, 0.270962618291378, 0.25923753529787064, 0.2483527697622776, 0.23822765797376633, 0.22879091650247574, 0.21997976303100586, 0.21173835918307304, 0.20401702262461185, 0.19677139073610306, 0.18996186554431915, 0.1835528053343296, 0.17751223035156727, 0.1718112826347351, 0.1664241012185812, 0.16132701747119427, 0.15649860352277756, 0.151919549331069, 0.14757204800844193, 0.14344021677970886, 0.1395090613514185, 0.1357655320316553, 0.13219703920185566, 0.12879224866628647, 0.12554066441953182, 0.12243303284049034, 0.11946030147373676, 0.11661442182958126, 0.11388777941465378, 0.11127347312867641, 0.10876511409878731, 0.10635663568973541, 0.1040424769744277, 0.10181757528334856, 0.09967687353491783, 0.09761614724993706, 0.09563130978494883, 0.09371805191040039, 0.0918730553239584, 0.09009267669171095, 0.08837411738932133, 0.08671394363045692, 0.08510949462652206, 0.0835582297295332, 0.08205760084092617, 0.0806052079424262, 0.07919899467378855, 0.07783675286918879, 0.0765167223289609, 0.07523687370121479, 0.07399551291018724, 0.07279107719659805, 0.07162191346287727, 0.07048668060451746, 0.06938381493091583, 0.06831217184662819, 0.06727045681327581, 0.06625744141638279, 0.06527190376073122, 0.06431302148848772, 0.06337954476475716, 0.06247065681964159, 0.061585390008985996, 0.06072297319769859]\n",
      "{'DET': 0, 'NN': 1, 'V': 2, 'ADV': 3}\n",
      "['The', 'dog', 'ate', 'the', 'apple']\n",
      "['DET', 'NN', 'V', 'DET', 'NN']\n",
      "[0, 1, 2, 0, 1]\n",
      "--------------\n",
      "{'DET': 0, 'NN': 1, 'V': 2, 'ADV': 3}\n",
      "['Everybody', 'read', 'that', 'book']\n",
      "['NN', 'V', 'DET', 'NN']\n",
      "[1, 2, 0, 1]\n",
      "--------------\n",
      "{'DET': 0, 'NN': 1, 'V': 2, 'ADV': 3}\n",
      "['Everybody', 'does', 'machine', 'learning', 'nowadays']\n",
      "['NN', 'V', 'NN', 'NN', 'ADV']\n",
      "[1, 2, 1, 1, 3]\n",
      "--------------\n"
     ]
    }
   ],
   "execution_count": 48
  },
  {
   "cell_type": "markdown",
   "metadata": {
    "id": "DwYT4FQIyugz"
   },
   "source": [
    "### Long Short-Term Memory (LSTM) ###"
   ]
  },
  {
   "cell_type": "code",
   "metadata": {
    "id": "DhmV_MvXyug0",
    "ExecuteTime": {
     "end_time": "2025-06-09T21:13:07.317673Z",
     "start_time": "2025-06-09T21:13:07.314019Z"
    }
   },
   "source": [
    "class LSTMTagger(nn.Module):\n",
    "\n",
    "    def __init__(self, embedding_dim, hidden_dim, vocab_size, tagset_size):\n",
    "        super(LSTMTagger, self).__init__()\n",
    "        self.hidden_dim = hidden_dim\n",
    "\n",
    "        self.word_embeddings = nn.Embedding(vocab_size, embedding_dim)\n",
    "\n",
    "        # The LSTM takes word embeddings as inputs, and outputs hidden states\n",
    "        # with dimensionality hidden_dim.\n",
    "        self.lstm = nn.LSTM(embedding_dim, hidden_dim)\n",
    "\n",
    "        # The linear layer that maps from hidden state space to tag space\n",
    "        self.hidden2tag = nn.Linear(hidden_dim, tagset_size)\n",
    "\n",
    "    def forward(self, sentence):\n",
    "        embeds = self.word_embeddings(sentence)\n",
    "        lstm_out, _ = self.lstm(embeds.view(len(sentence), 1, -1))\n",
    "        tag_space = self.hidden2tag(lstm_out.view(len(sentence), -1))\n",
    "        tag_scores = F.log_softmax(tag_space, dim=1)\n",
    "        return tag_scores"
   ],
   "outputs": [],
   "execution_count": 49
  },
  {
   "cell_type": "code",
   "metadata": {
    "id": "6OvO6qY8yug0",
    "outputId": "f884ed14-8f9c-4613-990b-da8cf7c6525d",
    "ExecuteTime": {
     "end_time": "2025-06-09T21:13:07.491625Z",
     "start_time": "2025-06-09T21:13:07.334546Z"
    }
   },
   "source": [
    "model = LSTMTagger(EMBEDDING_DIM, HIDDEN_DIM, len(word_to_ix), len(tag_to_ix))\n",
    "loss_function = nn.NLLLoss()\n",
    "optimizer = optim.SGD(model.parameters(), lr=0.1)\n",
    "losses = train(model, optimizer, loss_function, 100)\n",
    "print(losses)\n"
   ],
   "outputs": [
    {
     "name": "stdout",
     "output_type": "stream",
     "text": [
      "[4.0667842626571655, 3.9843209981918335, 3.915029764175415, 3.856734037399292, 3.8075640201568604, 3.7659271955490112, 3.7304794788360596, 3.700093388557434, 3.6738321781158447, 3.6509196758270264, 3.6307178735733032, 3.6127034425735474, 3.5964473485946655, 3.581599473953247, 3.5678738355636597, 3.5550355911254883, 3.542893409729004, 3.5312891006469727, 3.5200921297073364, 3.5091947317123413, 3.4985066652297974, 3.487951397895813, 3.477465271949768, 3.46699321269989, 3.45648729801178, 3.4459067583084106, 3.435214877128601, 3.4243804216384888, 3.413373112678528, 3.402167558670044, 3.3907400369644165, 3.3790682554244995, 3.367132067680359, 3.3549118041992188, 3.3423900604248047, 3.3295494318008423, 3.3163734674453735, 3.302847146987915, 3.2889543771743774, 3.274681806564331, 3.260014533996582, 3.2449395656585693, 3.2294440269470215, 3.2135143280029297, 3.197139620780945, 3.180307924747467, 3.1630082726478577, 3.1452309489250183, 3.1269665956497192, 3.108206868171692, 3.0889447927474976, 3.0691744089126587, 3.0488909482955933, 3.028091311454773, 3.006774604320526, 2.9849405884742737, 2.9625921845436096, 2.939733326435089, 2.9163708090782166, 2.892512619495392, 2.8681700825691223, 2.8433555960655212, 2.818083941936493, 2.7923721075057983, 2.7662389278411865, 2.739704668521881, 2.7127912640571594, 2.685522139072418, 2.6579217314720154, 2.6300151348114014, 2.601828873157501, 2.5733893513679504, 2.5447235703468323, 2.51585853099823, 2.4868209958076477, 2.4576375484466553, 2.4283341765403748, 2.398936450481415, 2.3694690465927124, 2.339955747127533, 2.3104189038276672, 2.280881106853485, 2.251362383365631, 2.2218822836875916, 2.192459225654602, 2.1631102561950684, 2.13385146856308, 2.1046972274780273, 2.075661301612854, 2.0467562675476074, 2.01799339056015, 1.9893831610679626, 1.9609349966049194, 1.9326574802398682, 1.90455824136734, 1.8766443729400635, 1.8489220142364502, 1.8213968873023987, 1.7940741777420044, 1.7669582068920135]\n"
     ]
    }
   ],
   "execution_count": 50
  },
  {
   "metadata": {
    "ExecuteTime": {
     "end_time": "2025-06-09T21:13:07.574479Z",
     "start_time": "2025-06-09T21:13:07.571397Z"
    }
   },
   "cell_type": "code",
   "source": [
    "import math\n",
    "for epoch, loss in enumerate(losses):\n",
    "    print(f\"Epoch {epoch}: Perplexity = {math.exp(loss):.2f}\")"
   ],
   "outputs": [
    {
     "name": "stdout",
     "output_type": "stream",
     "text": [
      "Epoch 0: Perplexity = 58.37\n",
      "Epoch 1: Perplexity = 53.75\n",
      "Epoch 2: Perplexity = 50.15\n",
      "Epoch 3: Perplexity = 47.31\n",
      "Epoch 4: Perplexity = 45.04\n",
      "Epoch 5: Perplexity = 43.20\n",
      "Epoch 6: Perplexity = 41.70\n",
      "Epoch 7: Perplexity = 40.45\n",
      "Epoch 8: Perplexity = 39.40\n",
      "Epoch 9: Perplexity = 38.51\n",
      "Epoch 10: Perplexity = 37.74\n",
      "Epoch 11: Perplexity = 37.07\n",
      "Epoch 12: Perplexity = 36.47\n",
      "Epoch 13: Perplexity = 35.93\n",
      "Epoch 14: Perplexity = 35.44\n",
      "Epoch 15: Perplexity = 34.99\n",
      "Epoch 16: Perplexity = 34.57\n",
      "Epoch 17: Perplexity = 34.17\n",
      "Epoch 18: Perplexity = 33.79\n",
      "Epoch 19: Perplexity = 33.42\n",
      "Epoch 20: Perplexity = 33.07\n",
      "Epoch 21: Perplexity = 32.72\n",
      "Epoch 22: Perplexity = 32.38\n",
      "Epoch 23: Perplexity = 32.04\n",
      "Epoch 24: Perplexity = 31.71\n",
      "Epoch 25: Perplexity = 31.37\n",
      "Epoch 26: Perplexity = 31.04\n",
      "Epoch 27: Perplexity = 30.70\n",
      "Epoch 28: Perplexity = 30.37\n",
      "Epoch 29: Perplexity = 30.03\n",
      "Epoch 30: Perplexity = 29.69\n",
      "Epoch 31: Perplexity = 29.34\n",
      "Epoch 32: Perplexity = 29.00\n",
      "Epoch 33: Perplexity = 28.64\n",
      "Epoch 34: Perplexity = 28.29\n",
      "Epoch 35: Perplexity = 27.93\n",
      "Epoch 36: Perplexity = 27.56\n",
      "Epoch 37: Perplexity = 27.19\n",
      "Epoch 38: Perplexity = 26.81\n",
      "Epoch 39: Perplexity = 26.43\n",
      "Epoch 40: Perplexity = 26.05\n",
      "Epoch 41: Perplexity = 25.66\n",
      "Epoch 42: Perplexity = 25.27\n",
      "Epoch 43: Perplexity = 24.87\n",
      "Epoch 44: Perplexity = 24.46\n",
      "Epoch 45: Perplexity = 24.05\n",
      "Epoch 46: Perplexity = 23.64\n",
      "Epoch 47: Perplexity = 23.23\n",
      "Epoch 48: Perplexity = 22.80\n",
      "Epoch 49: Perplexity = 22.38\n",
      "Epoch 50: Perplexity = 21.95\n",
      "Epoch 51: Perplexity = 21.52\n",
      "Epoch 52: Perplexity = 21.09\n",
      "Epoch 53: Perplexity = 20.66\n",
      "Epoch 54: Perplexity = 20.22\n",
      "Epoch 55: Perplexity = 19.79\n",
      "Epoch 56: Perplexity = 19.35\n",
      "Epoch 57: Perplexity = 18.91\n",
      "Epoch 58: Perplexity = 18.47\n",
      "Epoch 59: Perplexity = 18.04\n",
      "Epoch 60: Perplexity = 17.60\n",
      "Epoch 61: Perplexity = 17.17\n",
      "Epoch 62: Perplexity = 16.74\n",
      "Epoch 63: Perplexity = 16.32\n",
      "Epoch 64: Perplexity = 15.90\n",
      "Epoch 65: Perplexity = 15.48\n",
      "Epoch 66: Perplexity = 15.07\n",
      "Epoch 67: Perplexity = 14.67\n",
      "Epoch 68: Perplexity = 14.27\n",
      "Epoch 69: Perplexity = 13.87\n",
      "Epoch 70: Perplexity = 13.49\n",
      "Epoch 71: Perplexity = 13.11\n",
      "Epoch 72: Perplexity = 12.74\n",
      "Epoch 73: Perplexity = 12.38\n",
      "Epoch 74: Perplexity = 12.02\n",
      "Epoch 75: Perplexity = 11.68\n",
      "Epoch 76: Perplexity = 11.34\n",
      "Epoch 77: Perplexity = 11.01\n",
      "Epoch 78: Perplexity = 10.69\n",
      "Epoch 79: Perplexity = 10.38\n",
      "Epoch 80: Perplexity = 10.08\n",
      "Epoch 81: Perplexity = 9.79\n",
      "Epoch 82: Perplexity = 9.50\n",
      "Epoch 83: Perplexity = 9.22\n",
      "Epoch 84: Perplexity = 8.96\n",
      "Epoch 85: Perplexity = 8.70\n",
      "Epoch 86: Perplexity = 8.45\n",
      "Epoch 87: Perplexity = 8.20\n",
      "Epoch 88: Perplexity = 7.97\n",
      "Epoch 89: Perplexity = 7.74\n",
      "Epoch 90: Perplexity = 7.52\n",
      "Epoch 91: Perplexity = 7.31\n",
      "Epoch 92: Perplexity = 7.11\n",
      "Epoch 93: Perplexity = 6.91\n",
      "Epoch 94: Perplexity = 6.72\n",
      "Epoch 95: Perplexity = 6.53\n",
      "Epoch 96: Perplexity = 6.35\n",
      "Epoch 97: Perplexity = 6.18\n",
      "Epoch 98: Perplexity = 6.01\n",
      "Epoch 99: Perplexity = 5.85\n"
     ]
    }
   ],
   "execution_count": 51
  },
  {
   "metadata": {
    "ExecuteTime": {
     "end_time": "2025-06-09T21:13:07.669778Z",
     "start_time": "2025-06-09T21:13:07.663843Z"
    }
   },
   "cell_type": "code",
   "source": [
    "evaluate(model, 0)\n",
    "evaluate(model, 1)\n",
    "evaluate(model, 2)"
   ],
   "outputs": [
    {
     "name": "stdout",
     "output_type": "stream",
     "text": [
      "{'DET': 0, 'NN': 1, 'V': 2, 'ADV': 3}\n",
      "['The', 'dog', 'ate', 'the', 'apple']\n",
      "['DET', 'NN', 'V', 'DET', 'NN']\n",
      "[0, 1, 2, 1, 1]\n",
      "--------------\n",
      "{'DET': 0, 'NN': 1, 'V': 2, 'ADV': 3}\n",
      "['Everybody', 'read', 'that', 'book']\n",
      "['NN', 'V', 'DET', 'NN']\n",
      "[1, 2, 0, 1]\n",
      "--------------\n",
      "{'DET': 0, 'NN': 1, 'V': 2, 'ADV': 3}\n",
      "['Everybody', 'does', 'machine', 'learning', 'nowadays']\n",
      "['NN', 'V', 'NN', 'NN', 'ADV']\n",
      "[1, 1, 1, 1, 1]\n",
      "--------------\n"
     ]
    }
   ],
   "execution_count": 52
  },
  {
   "cell_type": "markdown",
   "metadata": {
    "id": "02SV6fDVyug0"
   },
   "source": [
    "## Replace LSTM and RNN with GRU ##\n",
    "\n",
    "Implement a network with nn.GRU, and compare with the other networks through loss and perplexity. If wanted, you can extend this toy example with more sentences or vary the task for testing the networks and observing the differences."
   ]
  },
  {
   "metadata": {
    "ExecuteTime": {
     "end_time": "2025-06-09T21:13:07.877521Z",
     "start_time": "2025-06-09T21:13:07.696162Z"
    }
   },
   "cell_type": "code",
   "source": [
    "import torch.optim as optim\n",
    "class GRUTagger(nn.Module):\n",
    "    def __init__(self, input_size, embedding_dim, hidden_size, output_size):\n",
    "        super(GRUTagger, self).__init__()\n",
    "        self.hidden_size = hidden_size\n",
    "        self.embedding = nn.Embedding(input_size, embedding_dim)\n",
    "        self.gru = nn.GRU(embedding_dim, hidden_size)\n",
    "        self.fc = nn.Linear(hidden_size, output_size)\n",
    "    \n",
    "    def forward(self, x):\n",
    "        embedded = self.embedding(x)\n",
    "        output, hidden = self.gru(embedded)\n",
    "        output = self.fc(output.view(len(x), -1))\n",
    "        return F.log_softmax(output, dim=1)\n",
    "    def initHidden(self):\n",
    "        return torch.zeros(1, self.hidden_size)\n",
    "\n",
    "\n",
    "model_gru = GRUTagger(len(word_to_ix), embedding_dim=6, hidden_size=12, output_size=len(tag_to_ix))\n",
    "loss_fn = nn.NLLLoss()\n",
    "optimizer = optim.Adam(model_gru.parameters(), lr=0.001)\n",
    "losses = train(model_gru, optimizer, loss_fn, 100)\n"
   ],
   "outputs": [],
   "execution_count": 53
  },
  {
   "cell_type": "code",
   "metadata": {
    "id": "Jts9ojcDyug0",
    "ExecuteTime": {
     "end_time": "2025-06-09T21:13:07.886906Z",
     "start_time": "2025-06-09T21:13:07.884351Z"
    }
   },
   "source": [
    "import math\n",
    "for epoch, loss in enumerate(losses):\n",
    "    print(f\"Epoch {epoch}: Perplexity = {math.exp(loss):.2f}\")"
   ],
   "outputs": [
    {
     "name": "stdout",
     "output_type": "stream",
     "text": [
      "Epoch 0: Perplexity = 69.16\n",
      "Epoch 1: Perplexity = 66.77\n",
      "Epoch 2: Perplexity = 64.66\n",
      "Epoch 3: Perplexity = 62.63\n",
      "Epoch 4: Perplexity = 60.68\n",
      "Epoch 5: Perplexity = 58.80\n",
      "Epoch 6: Perplexity = 56.98\n",
      "Epoch 7: Perplexity = 55.23\n",
      "Epoch 8: Perplexity = 53.54\n",
      "Epoch 9: Perplexity = 51.91\n",
      "Epoch 10: Perplexity = 50.33\n",
      "Epoch 11: Perplexity = 48.81\n",
      "Epoch 12: Perplexity = 47.34\n",
      "Epoch 13: Perplexity = 45.92\n",
      "Epoch 14: Perplexity = 44.55\n",
      "Epoch 15: Perplexity = 43.22\n",
      "Epoch 16: Perplexity = 41.94\n",
      "Epoch 17: Perplexity = 40.70\n",
      "Epoch 18: Perplexity = 39.51\n",
      "Epoch 19: Perplexity = 38.36\n",
      "Epoch 20: Perplexity = 37.25\n",
      "Epoch 21: Perplexity = 36.18\n",
      "Epoch 22: Perplexity = 35.15\n",
      "Epoch 23: Perplexity = 34.15\n",
      "Epoch 24: Perplexity = 33.19\n",
      "Epoch 25: Perplexity = 32.27\n",
      "Epoch 26: Perplexity = 31.37\n",
      "Epoch 27: Perplexity = 30.51\n",
      "Epoch 28: Perplexity = 29.68\n",
      "Epoch 29: Perplexity = 28.87\n",
      "Epoch 30: Perplexity = 28.09\n",
      "Epoch 31: Perplexity = 27.33\n",
      "Epoch 32: Perplexity = 26.58\n",
      "Epoch 33: Perplexity = 25.86\n",
      "Epoch 34: Perplexity = 25.15\n",
      "Epoch 35: Perplexity = 24.46\n",
      "Epoch 36: Perplexity = 23.78\n",
      "Epoch 37: Perplexity = 23.11\n",
      "Epoch 38: Perplexity = 22.44\n",
      "Epoch 39: Perplexity = 21.79\n",
      "Epoch 40: Perplexity = 21.15\n",
      "Epoch 41: Perplexity = 20.51\n",
      "Epoch 42: Perplexity = 19.88\n",
      "Epoch 43: Perplexity = 19.26\n",
      "Epoch 44: Perplexity = 18.64\n",
      "Epoch 45: Perplexity = 18.03\n",
      "Epoch 46: Perplexity = 17.43\n",
      "Epoch 47: Perplexity = 16.84\n",
      "Epoch 48: Perplexity = 16.26\n",
      "Epoch 49: Perplexity = 15.68\n",
      "Epoch 50: Perplexity = 15.12\n",
      "Epoch 51: Perplexity = 14.56\n",
      "Epoch 52: Perplexity = 14.02\n",
      "Epoch 53: Perplexity = 13.48\n",
      "Epoch 54: Perplexity = 12.96\n",
      "Epoch 55: Perplexity = 12.45\n",
      "Epoch 56: Perplexity = 11.96\n",
      "Epoch 57: Perplexity = 11.47\n",
      "Epoch 58: Perplexity = 11.01\n",
      "Epoch 59: Perplexity = 10.55\n",
      "Epoch 60: Perplexity = 10.11\n",
      "Epoch 61: Perplexity = 9.69\n",
      "Epoch 62: Perplexity = 9.28\n",
      "Epoch 63: Perplexity = 8.88\n",
      "Epoch 64: Perplexity = 8.50\n",
      "Epoch 65: Perplexity = 8.14\n",
      "Epoch 66: Perplexity = 7.78\n",
      "Epoch 67: Perplexity = 7.45\n",
      "Epoch 68: Perplexity = 7.13\n",
      "Epoch 69: Perplexity = 6.82\n",
      "Epoch 70: Perplexity = 6.52\n",
      "Epoch 71: Perplexity = 6.24\n",
      "Epoch 72: Perplexity = 5.97\n",
      "Epoch 73: Perplexity = 5.72\n",
      "Epoch 74: Perplexity = 5.48\n",
      "Epoch 75: Perplexity = 5.25\n",
      "Epoch 76: Perplexity = 5.03\n",
      "Epoch 77: Perplexity = 4.82\n",
      "Epoch 78: Perplexity = 4.62\n",
      "Epoch 79: Perplexity = 4.44\n",
      "Epoch 80: Perplexity = 4.26\n",
      "Epoch 81: Perplexity = 4.09\n",
      "Epoch 82: Perplexity = 3.94\n",
      "Epoch 83: Perplexity = 3.79\n",
      "Epoch 84: Perplexity = 3.65\n",
      "Epoch 85: Perplexity = 3.51\n",
      "Epoch 86: Perplexity = 3.39\n",
      "Epoch 87: Perplexity = 3.27\n",
      "Epoch 88: Perplexity = 3.16\n",
      "Epoch 89: Perplexity = 3.06\n",
      "Epoch 90: Perplexity = 2.96\n",
      "Epoch 91: Perplexity = 2.87\n",
      "Epoch 92: Perplexity = 2.78\n",
      "Epoch 93: Perplexity = 2.70\n",
      "Epoch 94: Perplexity = 2.63\n",
      "Epoch 95: Perplexity = 2.56\n",
      "Epoch 96: Perplexity = 2.49\n",
      "Epoch 97: Perplexity = 2.43\n",
      "Epoch 98: Perplexity = 2.37\n",
      "Epoch 99: Perplexity = 2.31\n"
     ]
    }
   ],
   "execution_count": 54
  },
  {
   "metadata": {
    "ExecuteTime": {
     "end_time": "2025-06-09T21:13:07.897462Z",
     "start_time": "2025-06-09T21:13:07.894417Z"
    }
   },
   "cell_type": "code",
   "source": [
    "\n",
    "evaluate(model_gru, 0)\n",
    "evaluate(model_gru, 1)\n",
    "evaluate(model_gru, 2)"
   ],
   "outputs": [
    {
     "name": "stdout",
     "output_type": "stream",
     "text": [
      "{'DET': 0, 'NN': 1, 'V': 2, 'ADV': 3}\n",
      "['The', 'dog', 'ate', 'the', 'apple']\n",
      "['DET', 'NN', 'V', 'DET', 'NN']\n",
      "[0, 1, 2, 0, 1]\n",
      "--------------\n",
      "{'DET': 0, 'NN': 1, 'V': 2, 'ADV': 3}\n",
      "['Everybody', 'read', 'that', 'book']\n",
      "['NN', 'V', 'DET', 'NN']\n",
      "[1, 2, 0, 1]\n",
      "--------------\n",
      "{'DET': 0, 'NN': 1, 'V': 2, 'ADV': 3}\n",
      "['Everybody', 'does', 'machine', 'learning', 'nowadays']\n",
      "['NN', 'V', 'NN', 'NN', 'ADV']\n",
      "[1, 2, 1, 1, 3]\n",
      "--------------\n"
     ]
    }
   ],
   "execution_count": 55
  },
  {
   "metadata": {},
   "cell_type": "markdown",
   "source": "From Perplexity, we can see that GRU has lower Perplexity (2.31) than LSTM (5.85)"
  },
  {
   "metadata": {},
   "cell_type": "code",
   "outputs": [],
   "execution_count": null,
   "source": ""
  }
 ],
 "metadata": {
  "kernelspec": {
   "display_name": "Python 3 (ipykernel)",
   "language": "python",
   "name": "python3"
  },
  "language_info": {
   "codemirror_mode": {
    "name": "ipython",
    "version": 3
   },
   "file_extension": ".py",
   "mimetype": "text/x-python",
   "name": "python",
   "nbconvert_exporter": "python",
   "pygments_lexer": "ipython3",
   "version": "3.8.2"
  },
  "colab": {
   "name": "0-getting-started-with-RNN.ipynb",
   "provenance": []
  }
 },
 "nbformat": 4,
 "nbformat_minor": 0
}
