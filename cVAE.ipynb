{
 "cells": [
  {
   "cell_type": "code",
   "id": "initial_id",
   "metadata": {
    "collapsed": true,
    "ExecuteTime": {
     "end_time": "2025-06-10T17:37:35.600380Z",
     "start_time": "2025-06-10T17:37:34.385430Z"
    }
   },
   "source": [
    "import torch\n",
    "import torch.nn as nn\n",
    "import torch.nn.functional as F\n"
   ],
   "outputs": [],
   "execution_count": 1
  },
  {
   "metadata": {},
   "cell_type": "markdown",
   "source": "Implement and test Conditional VAE (cVAE)",
   "id": "b59bc75447403c57"
  },
  {
   "metadata": {
    "ExecuteTime": {
     "end_time": "2025-06-10T17:37:35.633555Z",
     "start_time": "2025-06-10T17:37:35.628139Z"
    }
   },
   "cell_type": "code",
   "source": [
    "class Encoder(nn.Module):\n",
    "    def __init__(self, input_dim=784, label_dim=10, hidden_dim=400, latent_dim=20):\n",
    "        super(Encoder, self).__init__()\n",
    "        self.fc1 = nn.Linear(input_dim + label_dim, hidden_dim)\n",
    "        self.fc_mu = nn.Linear(hidden_dim, latent_dim)\n",
    "        self.fc_logvar = nn.Linear(hidden_dim, latent_dim)\n",
    "\n",
    "    def forward(self, x, y):\n",
    "        # Flatten image and concatenate one-hot label\n",
    "        x = torch.cat([x, y], dim=1)\n",
    "        h = F.relu(self.fc1(x))\n",
    "        mu = self.fc_mu(h)\n",
    "        logvar = self.fc_logvar(h)\n",
    "        return mu, logvar"
   ],
   "id": "62c01ab796f324c5",
   "outputs": [],
   "execution_count": 2
  },
  {
   "metadata": {
    "ExecuteTime": {
     "end_time": "2025-06-10T17:37:35.712755Z",
     "start_time": "2025-06-10T17:37:35.708900Z"
    }
   },
   "cell_type": "code",
   "source": [
    "class Decoder(nn.Module):\n",
    "    def __init__(self, latent_dim=20, label_dim=10, hidden_dim=400, output_dim=784):\n",
    "        super(Decoder, self).__init__()\n",
    "        self.fc1 = nn.Linear(latent_dim + label_dim, hidden_dim)\n",
    "        self.fc2 = nn.Linear(hidden_dim, output_dim)\n",
    "\n",
    "    def forward(self, z, y):\n",
    "        z = torch.cat([z, y], dim=1)\n",
    "        h = F.relu(self.fc1(z))\n",
    "        out = torch.sigmoid(self.fc2(h))  # [0, 1] pixel values\n",
    "        return out"
   ],
   "id": "b531c82ad9fdf8e7",
   "outputs": [],
   "execution_count": 3
  },
  {
   "metadata": {
    "ExecuteTime": {
     "end_time": "2025-06-10T17:37:35.734785Z",
     "start_time": "2025-06-10T17:37:35.732668Z"
    }
   },
   "cell_type": "code",
   "source": [
    "def reparameterize(mu, logvar):\n",
    "    std = torch.exp(0.5 * logvar)\n",
    "    eps = torch.randn_like(std)\n",
    "    return mu + eps * std"
   ],
   "id": "a3d8f5dbc1b505bb",
   "outputs": [],
   "execution_count": 4
  },
  {
   "metadata": {
    "ExecuteTime": {
     "end_time": "2025-06-10T17:37:35.745162Z",
     "start_time": "2025-06-10T17:37:35.741955Z"
    }
   },
   "cell_type": "code",
   "source": [
    "class cVAE(nn.Module):\n",
    "    def __init__(self):\n",
    "        super(cVAE, self).__init__()\n",
    "        self.encoder = Encoder()\n",
    "        self.decoder = Decoder()\n",
    "\n",
    "    def forward(self, x, y):\n",
    "        mu, logvar = self.encoder(x, y)\n",
    "        z = reparameterize(mu, logvar)\n",
    "        recon_x = self.decoder(z, y)\n",
    "        return recon_x, mu, logvar\n"
   ],
   "id": "ca070a0aeef93261",
   "outputs": [],
   "execution_count": 5
  },
  {
   "metadata": {
    "ExecuteTime": {
     "end_time": "2025-06-10T17:37:35.757368Z",
     "start_time": "2025-06-10T17:37:35.753661Z"
    }
   },
   "cell_type": "code",
   "source": [
    "def loss_function(recon_x, x, mu, logvar):\n",
    "    BCE = F.binary_cross_entropy(recon_x, x, reduction='sum')\n",
    "    KLD = -0.5 * torch.sum(1 + logvar - mu.pow(2) - logvar.exp())\n",
    "    return BCE + KLD"
   ],
   "id": "86adee1482126897",
   "outputs": [],
   "execution_count": 6
  },
  {
   "metadata": {
    "ExecuteTime": {
     "end_time": "2025-06-10T17:37:51.076857Z",
     "start_time": "2025-06-10T17:37:35.766043Z"
    }
   },
   "cell_type": "code",
   "source": [
    "from torchvision import datasets, transforms\n",
    "from torch.utils.data import DataLoader\n",
    "from torchvision.utils import make_grid\n",
    "import matplotlib.pyplot as plt\n",
    "\n",
    "transform = transforms.Compose([transforms.ToTensor(), transforms.Lambda(lambda x: x.view(-1))])\n",
    "train_loader = DataLoader(datasets.MNIST(root='.', train=True, transform=transform, download=True), batch_size=128, shuffle=True)\n",
    "\n",
    "device = torch.device(\"cuda\" if torch.cuda.is_available() else \"cpu\")\n",
    "model = cVAE().to(device)\n",
    "optimizer = torch.optim.Adam(model.parameters(), lr=1e-3)\n"
   ],
   "id": "63dfdf3ef253f500",
   "outputs": [
    {
     "name": "stderr",
     "output_type": "stream",
     "text": [
      "100%|██████████| 9.91M/9.91M [00:02<00:00, 3.85MB/s]\n",
      "100%|██████████| 28.9k/28.9k [00:00<00:00, 210kB/s]\n",
      "100%|██████████| 1.65M/1.65M [00:05<00:00, 304kB/s]\n",
      "100%|██████████| 4.54k/4.54k [00:00<00:00, 2.73MB/s]\n"
     ]
    }
   ],
   "execution_count": 7
  },
  {
   "metadata": {
    "ExecuteTime": {
     "end_time": "2025-06-10T17:59:37.484752Z",
     "start_time": "2025-06-10T17:58:59.557244Z"
    }
   },
   "cell_type": "code",
   "source": [
    "for epoch in range(10):\n",
    "    model.train()\n",
    "    total_loss = 0\n",
    "    for x, y in train_loader:\n",
    "        x, y = x.to(device), y.to(device)\n",
    "        y_onehot = F.one_hot(y, num_classes=10).float()\n",
    "        optimizer.zero_grad()\n",
    "        recon_x, mu, logvar = model(x, y_onehot)\n",
    "        loss = loss_function(recon_x, x, mu, logvar)\n",
    "        loss.backward()\n",
    "        optimizer.step()\n",
    "        total_loss += loss.item()\n",
    "    print(f\"Epoch {epoch+1}, Loss: {total_loss / len(train_loader.dataset):.4f}\")"
   ],
   "id": "5a2b22414d42a905",
   "outputs": [
    {
     "name": "stdout",
     "output_type": "stream",
     "text": [
      "Epoch 1, Loss: 102.0983\n",
      "Epoch 2, Loss: 101.6825\n",
      "Epoch 3, Loss: 101.3145\n",
      "Epoch 4, Loss: 101.0319\n",
      "Epoch 5, Loss: 100.7716\n",
      "Epoch 6, Loss: 100.4897\n",
      "Epoch 7, Loss: 100.2922\n",
      "Epoch 8, Loss: 100.0866\n",
      "Epoch 9, Loss: 99.8711\n",
      "Epoch 10, Loss: 99.7335\n"
     ]
    }
   ],
   "execution_count": 13
  },
  {
   "metadata": {
    "ExecuteTime": {
     "end_time": "2025-06-10T18:01:59.305277Z",
     "start_time": "2025-06-10T18:01:59.236391Z"
    }
   },
   "cell_type": "code",
   "source": [
    "model.eval()\n",
    "with torch.no_grad():\n",
    "    y = torch.arange(0, 10)\n",
    "    y_onehot = F.one_hot(y, num_classes=10).float()\n",
    "    z = torch.randn(10, 20).to(device)\n",
    "    samples = model.decoder(z, y_onehot).cpu()\n",
    "    samples = samples.view(-1, 1, 28, 28)\n",
    "    grid = make_grid(samples, nrow=10)\n",
    "    plt.imshow(grid.permute(1, 2, 0).squeeze())\n",
    "    plt.axis('off')\n",
    "    plt.title(\"cVAE Samples Conditioned on 0-9\")\n",
    "    plt.show()\n"
   ],
   "id": "4d7cc4f5ca307861",
   "outputs": [
    {
     "data": {
      "text/plain": [
       "<Figure size 640x480 with 1 Axes>"
      ],
      "image/png": "[encoded data removed]"
     },
     "metadata": {},
     "output_type": "display_data"
    }
   ],
   "execution_count": 18
  }
 ],
 "metadata": {
  "kernelspec": {
   "display_name": "Python 3",
   "language": "python",
   "name": "python3"
  },
  "language_info": {
   "codemirror_mode": {
    "name": "ipython",
    "version": 2
   },
   "file_extension": ".py",
   "mimetype": "text/x-python",
   "name": "python",
   "nbconvert_exporter": "python",
   "pygments_lexer": "ipython2",
   "version": "2.7.6"
  }
 },
 "nbformat": 4,
 "nbformat_minor": 5
}
